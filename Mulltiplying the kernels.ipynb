{
 "cells": [
  {
   "cell_type": "code",
   "execution_count": 13,
   "metadata": {},
   "outputs": [],
   "source": [
    "import GPy\n",
    "import matplotlib.pyplot as plt\n",
    "import pandas as pd\n",
    "import numpy as np\n",
    "from sklearn.model_selection import train_test_split\n",
    "import seaborn as sns\n",
    "\n",
    "from sklearn.preprocessing import StandardScaler\n",
    "\n",
    "from sklearn.metrics import mean_squared_error\n",
    "\n",
    "import time"
   ]
  },
  {
   "cell_type": "code",
   "execution_count": 3,
   "metadata": {},
   "outputs": [],
   "source": [
    "df=pd.read_csv('Concrete_Data.csv')\n",
    "df1=df\n",
    "\n",
    "df1.columns=[\"Cement\",\"Blast_Furance\",\"Fly_Ash\",\"Water\",\"Superplasticizer\",\"Coarse_Aggregate\",\"Fine_Aggregate\",\"Age\",\"Strength\"]\n",
    "df1.head()\n",
    "\n",
    "X=df1.drop(\"Strength\",axis=1).values\n",
    "Y=df1[\"Strength\"].values.reshape(-1,1)\n",
    "\n",
    "X_train,X_test,Y_train,Y_test=X[:700],X[700::],Y[:700],Y[700::]\n"
   ]
  },
  {
   "cell_type": "code",
   "execution_count": 7,
   "metadata": {},
   "outputs": [],
   "source": [
    "\n",
    "#Cement\n",
    "K1=GPy.kern.Matern32(1,ARD=True,variance=4169.465933438534,lengthscale=1549.9147563919944,active_dims=[0])\n",
    "\n",
    "#Blast_Furance\n",
    "k1=GPy.kern.PeriodicExponential(1,variance=9.361692650954631e-07,lengthscale=147.2139294986865,period=19.101741117437783,active_dims=[1])\n",
    "k2=GPy.kern.RBF(1,ARD=True,variance=189.65509369615947,lengthscale=214.5073292829563,active_dims=[1])\n",
    "k3=GPy.kern.Matern32(1,ARD=True,variance=112.94406169745655,lengthscale=1.3663048254769852e-95,active_dims=[1])\n",
    "K2=k1+k2+k3\n",
    "\n",
    "\n",
    "#Fly_ash\n",
    "k4=GPy.kern.RBF(1,ARD=True,variance=1221.6749702362074,lengthscale=1132.6018572227545,active_dims=[2])\n",
    "k5=GPy.kern.Matern32(1,ARD=True,variance=11.712243768585925,lengthscale=0.058175069229113856,active_dims=[2])\n",
    "\n",
    "K3=k4+k5\n",
    "\n",
    "#water\n",
    "K4=GPy.kern.Exponential(1,ARD=True,variance=1445.9271756267851,lengthscale=50.55227037981031,active_dims=[3])\n",
    "\n",
    "\n",
    "#Superplasticizer\n",
    "k6=GPy.kern.RBF(1,ARD=True,variance=1304.0943832273217,lengthscale=50.9404018497552,active_dims=[4])\n",
    "k7=GPy.kern.Matern32(1,ARD=True,variance=1164.1031437031368,lengthscale=327.4938419600094,active_dims=[4])\n",
    "k8=GPy.kern.Exponential(1,ARD=True,variance=49.39428716580325,lengthscale=1.2396576667342685e-11,active_dims=[4])\n",
    "K5=k6+k7+k8\n",
    "\n",
    "\n",
    "# coarse aggregate\n",
    "K6=GPy.kern.Linear(1,ARD=True,variances=0.001338907851601497,active_dims=[5])\n",
    "\n",
    "\n",
    "# fine aggregrate\n",
    "k9=GPy.kern.RatQuad(1,ARD=True,variance=1185.4575468073592,lengthscale=0.08254820314509405,power=3.9762096123034e-55,active_dims=6)\n",
    "k10=GPy.kern.Matern32(1,ARD=True,variance=101.32714527577565,lengthscale=\t1.759107268443224e-27,active_dims=[6])\n",
    "\n",
    "K7=k9+k10\n",
    "\n",
    "#Age\n",
    "K8=GPy.kern.PeriodicExponential(1,variance=197.98490097302098,lengthscale=0.3662920954077468,period=9.733693649716308,active_dims=[7])\n"
   ]
  },
  {
   "cell_type": "code",
   "execution_count": 8,
   "metadata": {},
   "outputs": [],
   "source": [
    "KERNAL=K1*K2*K3*K4*K5*K6*K7*K8"
   ]
  },
  {
   "cell_type": "code",
   "execution_count": 9,
   "metadata": {},
   "outputs": [
    {
     "data": {
      "text/html": [
       "<style type=\"text/css\">\n",
       ".pd{\n",
       "    font-family: \"Courier New\", Courier, monospace !important;\n",
       "    width: 100%;\n",
       "    padding: 3px;\n",
       "}\n",
       "</style>\n",
       "\n",
       "<p class=pd>\n",
       "<b>Model</b>: GP regression<br>\n",
       "<b>Objective</b>: 19320.09982035231<br>\n",
       "<b>Number of Parameters</b>: 31<br>\n",
       "<b>Number of Optimization Parameters</b>: 31<br>\n",
       "<b>Updates</b>: True<br>\n",
       "</p>\n",
       "<style type=\"text/css\">\n",
       ".tg  {font-family:\"Courier New\", Courier, monospace !important;padding:2px 3px;word-break:normal;border-collapse:collapse;border-spacing:0;border-color:#DCDCDC;margin:0px auto;width:100%;}\n",
       ".tg td{font-family:\"Courier New\", Courier, monospace !important;font-weight:bold;color:#444;background-color:#F7FDFA;border-style:solid;border-width:1px;overflow:hidden;word-break:normal;border-color:#DCDCDC;}\n",
       ".tg th{font-family:\"Courier New\", Courier, monospace !important;font-weight:normal;color:#fff;background-color:#26ADE4;border-style:solid;border-width:1px;overflow:hidden;word-break:normal;border-color:#DCDCDC;}\n",
       ".tg .tg-left{font-family:\"Courier New\", Courier, monospace !important;font-weight:normal;text-align:left;}\n",
       ".tg .tg-center{font-family:\"Courier New\", Courier, monospace !important;font-weight:normal;text-align:center;}\n",
       ".tg .tg-right{font-family:\"Courier New\", Courier, monospace !important;font-weight:normal;text-align:right;}\n",
       "</style>\n",
       "<table class=\"tg\"><tr><th><b>  GP_regression.                          </b></th><th><b>                 value</b></th><th><b>constraints</b></th><th><b>priors</b></th></tr>\n",
       "<tr><td class=tg-left>  mul.Mat32.variance                      </td><td class=tg-right>     4169.465933438534</td><td class=tg-center>    +ve    </td><td class=tg-center>      </td></tr>\n",
       "<tr><td class=tg-left>  mul.Mat32.lengthscale                   </td><td class=tg-right>    1549.9147563919944</td><td class=tg-center>    +ve    </td><td class=tg-center>      </td></tr>\n",
       "<tr><td class=tg-left>  mul.sum.periodic_exponential.variance   </td><td class=tg-right> 9.361692650954631e-07</td><td class=tg-center>    +ve    </td><td class=tg-center>      </td></tr>\n",
       "<tr><td class=tg-left>  mul.sum.periodic_exponential.lengthscale</td><td class=tg-right>     147.2139294986865</td><td class=tg-center>    +ve    </td><td class=tg-center>      </td></tr>\n",
       "<tr><td class=tg-left>  mul.sum.periodic_exponential.period     </td><td class=tg-right>    19.101741117437783</td><td class=tg-center>    +ve    </td><td class=tg-center>      </td></tr>\n",
       "<tr><td class=tg-left>  mul.sum.rbf.variance                    </td><td class=tg-right>    189.65509369615947</td><td class=tg-center>    +ve    </td><td class=tg-center>      </td></tr>\n",
       "<tr><td class=tg-left>  mul.sum.rbf.lengthscale                 </td><td class=tg-right>     214.5073292829563</td><td class=tg-center>    +ve    </td><td class=tg-center>      </td></tr>\n",
       "<tr><td class=tg-left>  mul.sum.Mat32.variance                  </td><td class=tg-right>    112.94406169745655</td><td class=tg-center>    +ve    </td><td class=tg-center>      </td></tr>\n",
       "<tr><td class=tg-left>  mul.sum.Mat32.lengthscale               </td><td class=tg-right>1.3663048254769852e-95</td><td class=tg-center>    +ve    </td><td class=tg-center>      </td></tr>\n",
       "<tr><td class=tg-left>  mul.sum_1.rbf.variance                  </td><td class=tg-right>    1221.6749702362074</td><td class=tg-center>    +ve    </td><td class=tg-center>      </td></tr>\n",
       "<tr><td class=tg-left>  mul.sum_1.rbf.lengthscale               </td><td class=tg-right>    1132.6018572227545</td><td class=tg-center>    +ve    </td><td class=tg-center>      </td></tr>\n",
       "<tr><td class=tg-left>  mul.sum_1.Mat32.variance                </td><td class=tg-right>    11.712243768585925</td><td class=tg-center>    +ve    </td><td class=tg-center>      </td></tr>\n",
       "<tr><td class=tg-left>  mul.sum_1.Mat32.lengthscale             </td><td class=tg-right>  0.058175069229113856</td><td class=tg-center>    +ve    </td><td class=tg-center>      </td></tr>\n",
       "<tr><td class=tg-left>  mul.Exponential.variance                </td><td class=tg-right>    1445.9271756267851</td><td class=tg-center>    +ve    </td><td class=tg-center>      </td></tr>\n",
       "<tr><td class=tg-left>  mul.Exponential.lengthscale             </td><td class=tg-right>     50.55227037981031</td><td class=tg-center>    +ve    </td><td class=tg-center>      </td></tr>\n",
       "<tr><td class=tg-left>  mul.sum_2.rbf.variance                  </td><td class=tg-right>    1304.0943832273217</td><td class=tg-center>    +ve    </td><td class=tg-center>      </td></tr>\n",
       "<tr><td class=tg-left>  mul.sum_2.rbf.lengthscale               </td><td class=tg-right>      50.9404018497552</td><td class=tg-center>    +ve    </td><td class=tg-center>      </td></tr>\n",
       "<tr><td class=tg-left>  mul.sum_2.Mat32.variance                </td><td class=tg-right>    1164.1031437031368</td><td class=tg-center>    +ve    </td><td class=tg-center>      </td></tr>\n",
       "<tr><td class=tg-left>  mul.sum_2.Mat32.lengthscale             </td><td class=tg-right>     327.4938419600094</td><td class=tg-center>    +ve    </td><td class=tg-center>      </td></tr>\n",
       "<tr><td class=tg-left>  mul.sum_2.Exponential.variance          </td><td class=tg-right>     49.39428716580325</td><td class=tg-center>    +ve    </td><td class=tg-center>      </td></tr>\n",
       "<tr><td class=tg-left>  mul.sum_2.Exponential.lengthscale       </td><td class=tg-right>1.2396576667342685e-11</td><td class=tg-center>    +ve    </td><td class=tg-center>      </td></tr>\n",
       "<tr><td class=tg-left>  mul.linear.variances                    </td><td class=tg-right>  0.001338907851601497</td><td class=tg-center>    +ve    </td><td class=tg-center>      </td></tr>\n",
       "<tr><td class=tg-left>  mul.sum_3.RatQuad.variance              </td><td class=tg-right>    1185.4575468073592</td><td class=tg-center>    +ve    </td><td class=tg-center>      </td></tr>\n",
       "<tr><td class=tg-left>  mul.sum_3.RatQuad.lengthscale           </td><td class=tg-right>   0.08254820314509405</td><td class=tg-center>    +ve    </td><td class=tg-center>      </td></tr>\n",
       "<tr><td class=tg-left>  mul.sum_3.RatQuad.power                 </td><td class=tg-right>   3.9762096123034e-55</td><td class=tg-center>    +ve    </td><td class=tg-center>      </td></tr>\n",
       "<tr><td class=tg-left>  mul.sum_3.Mat32.variance                </td><td class=tg-right>    101.32714527577565</td><td class=tg-center>    +ve    </td><td class=tg-center>      </td></tr>\n",
       "<tr><td class=tg-left>  mul.sum_3.Mat32.lengthscale             </td><td class=tg-right> 1.759107268443224e-27</td><td class=tg-center>    +ve    </td><td class=tg-center>      </td></tr>\n",
       "<tr><td class=tg-left>  mul.periodic_exponential.variance       </td><td class=tg-right>    197.98490097302098</td><td class=tg-center>    +ve    </td><td class=tg-center>      </td></tr>\n",
       "<tr><td class=tg-left>  mul.periodic_exponential.lengthscale    </td><td class=tg-right>    0.3662920954077468</td><td class=tg-center>    +ve    </td><td class=tg-center>      </td></tr>\n",
       "<tr><td class=tg-left>  mul.periodic_exponential.period         </td><td class=tg-right>     9.733693649716308</td><td class=tg-center>    +ve    </td><td class=tg-center>      </td></tr>\n",
       "<tr><td class=tg-left>  Gaussian_noise.variance                 </td><td class=tg-right>                   1.0</td><td class=tg-center>    +ve    </td><td class=tg-center>      </td></tr>\n",
       "</table>"
      ],
      "text/plain": [
       "<GPy.models.gp_regression.GPRegression at 0x1cf2a9041c8>"
      ]
     },
     "execution_count": 9,
     "metadata": {},
     "output_type": "execute_result"
    }
   ],
   "source": [
    "main=GPy.models.GPRegression(X_train,Y_train,kernel=KERNAL)\n",
    "main"
   ]
  },
  {
   "cell_type": "code",
   "execution_count": 10,
   "metadata": {},
   "outputs": [
    {
     "data": {
      "application/vnd.jupyter.widget-view+json": {
       "model_id": "64a5623a1abd4975b65a96246eeaac4d",
       "version_major": 2,
       "version_minor": 0
      },
      "text/plain": [
       "HBox(children=(VBox(children=(IntProgress(value=0, max=1000), HTML(value=''))), Box(children=(HTML(value=''),)…"
      ]
     },
     "metadata": {},
     "output_type": "display_data"
    },
    {
     "name": "stderr",
     "output_type": "stream",
     "text": [
      " C:\\Users\\uamit\\Anaconda3\\lib\\site-packages\\GPy\\kern\\src\\stationary.py:166: RuntimeWarning:overflow encountered in true_divide\n"
     ]
    },
    {
     "name": "stdout",
     "output_type": "stream",
     "text": [
      "Time taken = 69.47 seconds\n"
     ]
    },
    {
     "data": {
      "text/html": [
       "<style type=\"text/css\">\n",
       ".pd{\n",
       "    font-family: \"Courier New\", Courier, monospace !important;\n",
       "    width: 100%;\n",
       "    padding: 3px;\n",
       "}\n",
       "</style>\n",
       "\n",
       "<p class=pd>\n",
       "<b>Model</b>: GP regression<br>\n",
       "<b>Objective</b>: 2935.9345792860313<br>\n",
       "<b>Number of Parameters</b>: 31<br>\n",
       "<b>Number of Optimization Parameters</b>: 31<br>\n",
       "<b>Updates</b>: True<br>\n",
       "</p>\n",
       "<style type=\"text/css\">\n",
       ".tg  {font-family:\"Courier New\", Courier, monospace !important;padding:2px 3px;word-break:normal;border-collapse:collapse;border-spacing:0;border-color:#DCDCDC;margin:0px auto;width:100%;}\n",
       ".tg td{font-family:\"Courier New\", Courier, monospace !important;font-weight:bold;color:#444;background-color:#F7FDFA;border-style:solid;border-width:1px;overflow:hidden;word-break:normal;border-color:#DCDCDC;}\n",
       ".tg th{font-family:\"Courier New\", Courier, monospace !important;font-weight:normal;color:#fff;background-color:#26ADE4;border-style:solid;border-width:1px;overflow:hidden;word-break:normal;border-color:#DCDCDC;}\n",
       ".tg .tg-left{font-family:\"Courier New\", Courier, monospace !important;font-weight:normal;text-align:left;}\n",
       ".tg .tg-center{font-family:\"Courier New\", Courier, monospace !important;font-weight:normal;text-align:center;}\n",
       ".tg .tg-right{font-family:\"Courier New\", Courier, monospace !important;font-weight:normal;text-align:right;}\n",
       "</style>\n",
       "<table class=\"tg\"><tr><th><b>  GP_regression.                          </b></th><th><b>                 value</b></th><th><b>constraints</b></th><th><b>priors</b></th></tr>\n",
       "<tr><td class=tg-left>  mul.Mat32.variance                      </td><td class=tg-right>     4169.456996966842</td><td class=tg-center>    +ve    </td><td class=tg-center>      </td></tr>\n",
       "<tr><td class=tg-left>  mul.Mat32.lengthscale                   </td><td class=tg-right>    1530.7151893411763</td><td class=tg-center>    +ve    </td><td class=tg-center>      </td></tr>\n",
       "<tr><td class=tg-left>  mul.sum.periodic_exponential.variance   </td><td class=tg-right> 9.160713783835959e-07</td><td class=tg-center>    +ve    </td><td class=tg-center>      </td></tr>\n",
       "<tr><td class=tg-left>  mul.sum.periodic_exponential.lengthscale</td><td class=tg-right>    147.21407351542823</td><td class=tg-center>    +ve    </td><td class=tg-center>      </td></tr>\n",
       "<tr><td class=tg-left>  mul.sum.periodic_exponential.period     </td><td class=tg-right>    19.153950169450905</td><td class=tg-center>    +ve    </td><td class=tg-center>      </td></tr>\n",
       "<tr><td class=tg-left>  mul.sum.rbf.variance                    </td><td class=tg-right>    368.38484896490627</td><td class=tg-center>    +ve    </td><td class=tg-center>      </td></tr>\n",
       "<tr><td class=tg-left>  mul.sum.rbf.lengthscale                 </td><td class=tg-right>     296.8849262453019</td><td class=tg-center>    +ve    </td><td class=tg-center>      </td></tr>\n",
       "<tr><td class=tg-left>  mul.sum.Mat32.variance                  </td><td class=tg-right>2.3286268690025424e-82</td><td class=tg-center>    +ve    </td><td class=tg-center>      </td></tr>\n",
       "<tr><td class=tg-left>  mul.sum.Mat32.lengthscale               </td><td class=tg-right>1.3663048254769852e-95</td><td class=tg-center>    +ve    </td><td class=tg-center>      </td></tr>\n",
       "<tr><td class=tg-left>  mul.sum_1.rbf.variance                  </td><td class=tg-right>    1222.4666837540353</td><td class=tg-center>    +ve    </td><td class=tg-center>      </td></tr>\n",
       "<tr><td class=tg-left>  mul.sum_1.rbf.lengthscale               </td><td class=tg-right>    1132.6265813855425</td><td class=tg-center>    +ve    </td><td class=tg-center>      </td></tr>\n",
       "<tr><td class=tg-left>  mul.sum_1.Mat32.variance                </td><td class=tg-right> 3.706925112209281e-33</td><td class=tg-center>    +ve    </td><td class=tg-center>      </td></tr>\n",
       "<tr><td class=tg-left>  mul.sum_1.Mat32.lengthscale             </td><td class=tg-right>     34.59538492456547</td><td class=tg-center>    +ve    </td><td class=tg-center>      </td></tr>\n",
       "<tr><td class=tg-left>  mul.Exponential.variance                </td><td class=tg-right>    1445.9014073866003</td><td class=tg-center>    +ve    </td><td class=tg-center>      </td></tr>\n",
       "<tr><td class=tg-left>  mul.Exponential.lengthscale             </td><td class=tg-right>     652.7001458347114</td><td class=tg-center>    +ve    </td><td class=tg-center>      </td></tr>\n",
       "<tr><td class=tg-left>  mul.sum_2.rbf.variance                  </td><td class=tg-right>    1305.8419549097894</td><td class=tg-center>    +ve    </td><td class=tg-center>      </td></tr>\n",
       "<tr><td class=tg-left>  mul.sum_2.rbf.lengthscale               </td><td class=tg-right>    34.920204515285604</td><td class=tg-center>    +ve    </td><td class=tg-center>      </td></tr>\n",
       "<tr><td class=tg-left>  mul.sum_2.Mat32.variance                </td><td class=tg-right>    1165.5377992373294</td><td class=tg-center>    +ve    </td><td class=tg-center>      </td></tr>\n",
       "<tr><td class=tg-left>  mul.sum_2.Mat32.lengthscale             </td><td class=tg-right>     327.3320121561168</td><td class=tg-center>    +ve    </td><td class=tg-center>      </td></tr>\n",
       "<tr><td class=tg-left>  mul.sum_2.Exponential.variance          </td><td class=tg-right>2.2961472907259323e-14</td><td class=tg-center>    +ve    </td><td class=tg-center>      </td></tr>\n",
       "<tr><td class=tg-left>  mul.sum_2.Exponential.lengthscale       </td><td class=tg-right>1.2396576667342685e-11</td><td class=tg-center>    +ve    </td><td class=tg-center>      </td></tr>\n",
       "<tr><td class=tg-left>  mul.linear.variances                    </td><td class=tg-right> 8.921529479449952e-20</td><td class=tg-center>    +ve    </td><td class=tg-center>      </td></tr>\n",
       "<tr><td class=tg-left>  mul.sum_3.RatQuad.variance              </td><td class=tg-right>    1199.9680880846506</td><td class=tg-center>    +ve    </td><td class=tg-center>      </td></tr>\n",
       "<tr><td class=tg-left>  mul.sum_3.RatQuad.lengthscale           </td><td class=tg-right>   0.08254820314509405</td><td class=tg-center>    +ve    </td><td class=tg-center>      </td></tr>\n",
       "<tr><td class=tg-left>  mul.sum_3.RatQuad.power                 </td><td class=tg-right>   3.9762096123034e-55</td><td class=tg-center>    +ve    </td><td class=tg-center>      </td></tr>\n",
       "<tr><td class=tg-left>  mul.sum_3.Mat32.variance                </td><td class=tg-right>1.0583106129405163e-30</td><td class=tg-center>    +ve    </td><td class=tg-center>      </td></tr>\n",
       "<tr><td class=tg-left>  mul.sum_3.Mat32.lengthscale             </td><td class=tg-right> 1.759107268443224e-27</td><td class=tg-center>    +ve    </td><td class=tg-center>      </td></tr>\n",
       "<tr><td class=tg-left>  mul.periodic_exponential.variance       </td><td class=tg-right>    197.79670986522956</td><td class=tg-center>    +ve    </td><td class=tg-center>      </td></tr>\n",
       "<tr><td class=tg-left>  mul.periodic_exponential.lengthscale    </td><td class=tg-right> 1.040028235220916e-06</td><td class=tg-center>    +ve    </td><td class=tg-center>      </td></tr>\n",
       "<tr><td class=tg-left>  mul.periodic_exponential.period         </td><td class=tg-right>     21.49635126287536</td><td class=tg-center>    +ve    </td><td class=tg-center>      </td></tr>\n",
       "<tr><td class=tg-left>  Gaussian_noise.variance                 </td><td class=tg-right>      38.5743103714055</td><td class=tg-center>    +ve    </td><td class=tg-center>      </td></tr>\n",
       "</table>"
      ],
      "text/plain": [
       "<GPy.models.gp_regression.GPRegression at 0x1cf2a9041c8>"
      ]
     },
     "execution_count": 10,
     "metadata": {},
     "output_type": "execute_result"
    }
   ],
   "source": [
    "st=time.time()\n",
    "main.optimize(messages=True)\n",
    "\n",
    "en = time.time()\n",
    "print('Time taken = {:.2f} seconds'.format(en-st))\n",
    "main"
   ]
  },
  {
   "cell_type": "code",
   "execution_count": 65,
   "metadata": {},
   "outputs": [
    {
     "name": "stdout",
     "output_type": "stream",
     "text": [
      "4.9091248886265415\n",
      "198.09449602868352\n"
     ]
    }
   ],
   "source": [
    "mean,variance=main.predict(X_train)\n",
    "print(np.sqrt(mean_squared_error(Y_train,mean.reshape(-1,1))))\n",
    "mean1,variance1=main.predict(X_test)\n",
    "print(np.sqrt(mean_squared_error(Y_test,mean1.reshape(-1,1))))\n"
   ]
  },
  {
   "cell_type": "code",
   "execution_count": 8,
   "metadata": {},
   "outputs": [
    {
     "name": "stderr",
     "output_type": "stream",
     "text": [
      " C:\\Users\\uamit\\Anaconda3\\lib\\site-packages\\paramz\\transformations.py:111: RuntimeWarning:overflow encountered in expm1\n"
     ]
    },
    {
     "data": {
      "application/vnd.jupyter.widget-view+json": {
       "model_id": "a6430141b5ce4ff0b0d7e0e056bb2d15",
       "version_major": 2,
       "version_minor": 0
      },
      "text/plain": [
       "HBox(children=(VBox(children=(IntProgress(value=0, max=1000), HTML(value=''))), Box(children=(HTML(value=''),)…"
      ]
     },
     "metadata": {},
     "output_type": "display_data"
    },
    {
     "name": "stderr",
     "output_type": "stream",
     "text": [
      " C:\\Users\\uamit\\Anaconda3\\lib\\site-packages\\GPy\\kern\\src\\stationary.py:166: RuntimeWarning:overflow encountered in true_divide\n"
     ]
    },
    {
     "name": "stdout",
     "output_type": "stream",
     "text": [
      "Time taken = 82.35 seconds\n"
     ]
    },
    {
     "data": {
      "text/html": [
       "<style type=\"text/css\">\n",
       ".pd{\n",
       "    font-family: \"Courier New\", Courier, monospace !important;\n",
       "    width: 100%;\n",
       "    padding: 3px;\n",
       "}\n",
       "</style>\n",
       "\n",
       "<p class=pd>\n",
       "<b>Model</b>: GP regression<br>\n",
       "<b>Objective</b>: 2935.9345792860313<br>\n",
       "<b>Number of Parameters</b>: 31<br>\n",
       "<b>Number of Optimization Parameters</b>: 31<br>\n",
       "<b>Updates</b>: True<br>\n",
       "</p>\n",
       "<style type=\"text/css\">\n",
       ".tg  {font-family:\"Courier New\", Courier, monospace !important;padding:2px 3px;word-break:normal;border-collapse:collapse;border-spacing:0;border-color:#DCDCDC;margin:0px auto;width:100%;}\n",
       ".tg td{font-family:\"Courier New\", Courier, monospace !important;font-weight:bold;color:#444;background-color:#F7FDFA;border-style:solid;border-width:1px;overflow:hidden;word-break:normal;border-color:#DCDCDC;}\n",
       ".tg th{font-family:\"Courier New\", Courier, monospace !important;font-weight:normal;color:#fff;background-color:#26ADE4;border-style:solid;border-width:1px;overflow:hidden;word-break:normal;border-color:#DCDCDC;}\n",
       ".tg .tg-left{font-family:\"Courier New\", Courier, monospace !important;font-weight:normal;text-align:left;}\n",
       ".tg .tg-center{font-family:\"Courier New\", Courier, monospace !important;font-weight:normal;text-align:center;}\n",
       ".tg .tg-right{font-family:\"Courier New\", Courier, monospace !important;font-weight:normal;text-align:right;}\n",
       "</style>\n",
       "<table class=\"tg\"><tr><th><b>  GP_regression.                          </b></th><th><b>                 value</b></th><th><b>constraints</b></th><th><b>priors</b></th></tr>\n",
       "<tr><td class=tg-left>  mul.Mat32.variance                      </td><td class=tg-right>     4169.456996966842</td><td class=tg-center>    +ve    </td><td class=tg-center>      </td></tr>\n",
       "<tr><td class=tg-left>  mul.Mat32.lengthscale                   </td><td class=tg-right>    1530.7151893411763</td><td class=tg-center>    +ve    </td><td class=tg-center>      </td></tr>\n",
       "<tr><td class=tg-left>  mul.sum.periodic_exponential.variance   </td><td class=tg-right> 9.160713783835959e-07</td><td class=tg-center>    +ve    </td><td class=tg-center>      </td></tr>\n",
       "<tr><td class=tg-left>  mul.sum.periodic_exponential.lengthscale</td><td class=tg-right>    147.21407351542823</td><td class=tg-center>    +ve    </td><td class=tg-center>      </td></tr>\n",
       "<tr><td class=tg-left>  mul.sum.periodic_exponential.period     </td><td class=tg-right>    19.153950169450905</td><td class=tg-center>    +ve    </td><td class=tg-center>      </td></tr>\n",
       "<tr><td class=tg-left>  mul.sum.rbf.variance                    </td><td class=tg-right>    368.38484896490627</td><td class=tg-center>    +ve    </td><td class=tg-center>      </td></tr>\n",
       "<tr><td class=tg-left>  mul.sum.rbf.lengthscale                 </td><td class=tg-right>     296.8849262453019</td><td class=tg-center>    +ve    </td><td class=tg-center>      </td></tr>\n",
       "<tr><td class=tg-left>  mul.sum.Mat32.variance                  </td><td class=tg-right>2.3286268690025424e-82</td><td class=tg-center>    +ve    </td><td class=tg-center>      </td></tr>\n",
       "<tr><td class=tg-left>  mul.sum.Mat32.lengthscale               </td><td class=tg-right>1.3663048254769852e-95</td><td class=tg-center>    +ve    </td><td class=tg-center>      </td></tr>\n",
       "<tr><td class=tg-left>  mul.sum_1.rbf.variance                  </td><td class=tg-right>    1222.4666837540353</td><td class=tg-center>    +ve    </td><td class=tg-center>      </td></tr>\n",
       "<tr><td class=tg-left>  mul.sum_1.rbf.lengthscale               </td><td class=tg-right>    1132.6265813855425</td><td class=tg-center>    +ve    </td><td class=tg-center>      </td></tr>\n",
       "<tr><td class=tg-left>  mul.sum_1.Mat32.variance                </td><td class=tg-right> 3.706925112209281e-33</td><td class=tg-center>    +ve    </td><td class=tg-center>      </td></tr>\n",
       "<tr><td class=tg-left>  mul.sum_1.Mat32.lengthscale             </td><td class=tg-right>     34.59538492456547</td><td class=tg-center>    +ve    </td><td class=tg-center>      </td></tr>\n",
       "<tr><td class=tg-left>  mul.Exponential.variance                </td><td class=tg-right>    1445.9014073866003</td><td class=tg-center>    +ve    </td><td class=tg-center>      </td></tr>\n",
       "<tr><td class=tg-left>  mul.Exponential.lengthscale             </td><td class=tg-right>     652.7001458347114</td><td class=tg-center>    +ve    </td><td class=tg-center>      </td></tr>\n",
       "<tr><td class=tg-left>  mul.sum_2.rbf.variance                  </td><td class=tg-right>    1305.8419549097894</td><td class=tg-center>    +ve    </td><td class=tg-center>      </td></tr>\n",
       "<tr><td class=tg-left>  mul.sum_2.rbf.lengthscale               </td><td class=tg-right>    34.920204515285604</td><td class=tg-center>    +ve    </td><td class=tg-center>      </td></tr>\n",
       "<tr><td class=tg-left>  mul.sum_2.Mat32.variance                </td><td class=tg-right>    1165.5377992373294</td><td class=tg-center>    +ve    </td><td class=tg-center>      </td></tr>\n",
       "<tr><td class=tg-left>  mul.sum_2.Mat32.lengthscale             </td><td class=tg-right>     327.3320121561168</td><td class=tg-center>    +ve    </td><td class=tg-center>      </td></tr>\n",
       "<tr><td class=tg-left>  mul.sum_2.Exponential.variance          </td><td class=tg-right>2.2961472907259323e-14</td><td class=tg-center>    +ve    </td><td class=tg-center>      </td></tr>\n",
       "<tr><td class=tg-left>  mul.sum_2.Exponential.lengthscale       </td><td class=tg-right>1.2396576667342685e-11</td><td class=tg-center>    +ve    </td><td class=tg-center>      </td></tr>\n",
       "<tr><td class=tg-left>  mul.linear.variances                    </td><td class=tg-right> 8.921529479449952e-20</td><td class=tg-center>    +ve    </td><td class=tg-center>      </td></tr>\n",
       "<tr><td class=tg-left>  mul.sum_3.RatQuad.variance              </td><td class=tg-right>    1199.9680880846506</td><td class=tg-center>    +ve    </td><td class=tg-center>      </td></tr>\n",
       "<tr><td class=tg-left>  mul.sum_3.RatQuad.lengthscale           </td><td class=tg-right>   0.08254820314509405</td><td class=tg-center>    +ve    </td><td class=tg-center>      </td></tr>\n",
       "<tr><td class=tg-left>  mul.sum_3.RatQuad.power                 </td><td class=tg-right>   3.9762096123034e-55</td><td class=tg-center>    +ve    </td><td class=tg-center>      </td></tr>\n",
       "<tr><td class=tg-left>  mul.sum_3.Mat32.variance                </td><td class=tg-right>1.0583106129405163e-30</td><td class=tg-center>    +ve    </td><td class=tg-center>      </td></tr>\n",
       "<tr><td class=tg-left>  mul.sum_3.Mat32.lengthscale             </td><td class=tg-right> 1.759107268443224e-27</td><td class=tg-center>    +ve    </td><td class=tg-center>      </td></tr>\n",
       "<tr><td class=tg-left>  mul.periodic_exponential.variance       </td><td class=tg-right>    197.79670986522956</td><td class=tg-center>    +ve    </td><td class=tg-center>      </td></tr>\n",
       "<tr><td class=tg-left>  mul.periodic_exponential.lengthscale    </td><td class=tg-right> 1.040028235220916e-06</td><td class=tg-center>    +ve    </td><td class=tg-center>      </td></tr>\n",
       "<tr><td class=tg-left>  mul.periodic_exponential.period         </td><td class=tg-right>     21.49635126287536</td><td class=tg-center>    +ve    </td><td class=tg-center>      </td></tr>\n",
       "<tr><td class=tg-left>  Gaussian_noise.variance                 </td><td class=tg-right>      38.5743103714055</td><td class=tg-center>    +ve    </td><td class=tg-center>      </td></tr>\n",
       "</table>"
      ],
      "text/plain": [
       "<GPy.models.gp_regression.GPRegression at 0x260b29a4208>"
      ]
     },
     "execution_count": 8,
     "metadata": {},
     "output_type": "execute_result"
    }
   ],
   "source": [
    "df=pd.read_csv('Concrete_Data.csv')\n",
    "df1=df\n",
    "\n",
    "df1.columns=[\"Cement\",\"Blast_Furance\",\"Fly_Ash\",\"Water\",\"Superplasticizer\",\"Coarse_Aggregate\",\"Fine_Aggregate\",\"Age\",\"Strength\"]\n",
    "df1.head()\n",
    "\n",
    "X=df1.drop(\"Strength\",axis=1).values\n",
    "Y=df1[\"Strength\"].values.reshape(-1,1)\n",
    "\n",
    "X_train,X_test,Y_train,Y_test=X[:700],X[700::],Y[:700],Y[700::]\n",
    "\n",
    "\n",
    "\n",
    "#Cement\n",
    "K1=GPy.kern.Matern32(1,ARD=True,variance=4169.465933438534,lengthscale=1549.9147563919944,active_dims=[0])\n",
    "\n",
    "#Blast_Furance\n",
    "k1=GPy.kern.PeriodicExponential(1,variance=9.361692650954631e-07,lengthscale=147.2139294986865,period=19.101741117437783,active_dims=[1])\n",
    "k2=GPy.kern.RBF(1,ARD=True,variance=189.65509369615947,lengthscale=214.5073292829563,active_dims=[1])\n",
    "k3=GPy.kern.Matern32(1,ARD=True,variance=112.94406169745655,lengthscale=1.3663048254769852e-95,active_dims=[1])\n",
    "K2=k1+k2+k3\n",
    "\n",
    "\n",
    "#Fly_ash\n",
    "k4=GPy.kern.RBF(1,ARD=True,variance=1221.6749702362074,lengthscale=1132.6018572227545,active_dims=[2])\n",
    "k5=GPy.kern.Matern32(1,ARD=True,variance=11.712243768585925,lengthscale=0.058175069229113856,active_dims=[2])\n",
    "\n",
    "K3=k4+k5\n",
    "\n",
    "#water\n",
    "K4=GPy.kern.Exponential(1,ARD=True,variance=1445.9271756267851,lengthscale=50.55227037981031,active_dims=[3])\n",
    "\n",
    "\n",
    "#Superplasticizer\n",
    "k6=GPy.kern.RBF(1,ARD=True,variance=1304.0943832273217,lengthscale=50.9404018497552,active_dims=[4])\n",
    "k7=GPy.kern.Matern32(1,ARD=True,variance=1164.1031437031368,lengthscale=327.4938419600094,active_dims=[4])\n",
    "k8=GPy.kern.Exponential(1,ARD=True,variance=49.39428716580325,lengthscale=1.2396576667342685e-11,active_dims=[4])\n",
    "K5=k6+k7+k8\n",
    "\n",
    "\n",
    "# coarse aggregate\n",
    "K6=GPy.kern.Linear(1,ARD=True,variances=0.001338907851601497,active_dims=[5])\n",
    "\n",
    "\n",
    "# fine aggregrate\n",
    "k9=GPy.kern.RatQuad(1,ARD=True,variance=1185.4575468073592,lengthscale=0.08254820314509405,power=3.9762096123034e-55,active_dims=6)\n",
    "k10=GPy.kern.Matern32(1,ARD=True,variance=101.32714527577565,lengthscale=\t1.759107268443224e-27,active_dims=[6])\n",
    "\n",
    "K7=k9+k10\n",
    "\n",
    "#Age\n",
    "K8=GPy.kern.PeriodicExponential(1,variance=197.98490097302098,lengthscale=0.3662920954077468,period=9.733693649716308,active_dims=[7])\n",
    "\n",
    "\n",
    "KERNAL=K1*K2*K3*K4*K5*K6*K7*K8\n",
    "\n",
    "main=GPy.models.GPRegression(X_train,Y_train,kernel=KERNAL)\n",
    "st=time.time()\n",
    "main.optimize(messages=True)\n",
    "\n",
    "en = time.time()\n",
    "print('Time taken = {:.2f} seconds'.format(en-st))\n",
    "main"
   ]
  },
  {
   "cell_type": "code",
   "execution_count": 32,
   "metadata": {},
   "outputs": [
    {
     "name": "stderr",
     "output_type": "stream",
     "text": [
      " C:\\Users\\uamit\\Anaconda3\\lib\\site-packages\\paramz\\transformations.py:111: RuntimeWarning:overflow encountered in expm1\n"
     ]
    }
   ],
   "source": [
    "df=pd.read_csv('Concrete_Data.csv')\n",
    "df1=df\n",
    "\n",
    "df1.columns=[\"Cement\",\"Blast_Furance\",\"Fly_Ash\",\"Water\",\"Superplasticizer\",\"Coarse_Aggregate\",\"Fine_Aggregate\",\"Age\",\"Strength\"]\n",
    "df1.head()\n",
    "\n",
    "X=df1.drop(\"Strength\",axis=1).values\n",
    "Y=df1[\"Strength\"].values.reshape(-1,1)\n",
    "\n",
    "X_train,X_test,Y_train,Y_test=X[:900],X[900::],Y[:900],Y[900::]\n",
    "\n",
    "\n",
    "#Cement\n",
    "K1=GPy.kern.Matern32(1,ARD=True,variance=4169.465933438534,lengthscale=1549.9147563919944,active_dims=[0])\n",
    "\n",
    "#Blast_Furance\n",
    "k1=GPy.kern.PeriodicExponential(1,variance=9.361692650954631e-07,lengthscale=147.2139294986865,period=19.101741117437783,active_dims=[1])\n",
    "k2=GPy.kern.RBF(1,ARD=True,variance=189.65509369615947,lengthscale=214.5073292829563,active_dims=[1])\n",
    "k3=GPy.kern.Matern32(1,ARD=True,variance=112.94406169745655,lengthscale=1.3663048254769852e-95,active_dims=[1])\n",
    "K2=k1+k2+k3\n",
    "\n",
    "\n",
    "#Fly_ash\n",
    "k4=GPy.kern.RBF(1,ARD=True,variance=1221.6749702362074,lengthscale=1132.6018572227545,active_dims=[2])\n",
    "k5=GPy.kern.Matern32(1,ARD=True,variance=11.712243768585925,lengthscale=0.058175069229113856,active_dims=[2])\n",
    "\n",
    "K3=k4+k5\n",
    "\n",
    "#water\n",
    "K4=GPy.kern.Exponential(1,ARD=True,variance=1445.9271756267851,lengthscale=50.55227037981031,active_dims=[3])\n",
    "\n",
    "\n",
    "#Superplasticizer\n",
    "k6=GPy.kern.RBF(1,ARD=True,variance=1304.0943832273217,lengthscale=50.9404018497552,active_dims=[4])\n",
    "k7=GPy.kern.Matern32(1,ARD=True,variance=1164.1031437031368,lengthscale=327.4938419600094,active_dims=[4])\n",
    "k8=GPy.kern.Exponential(1,ARD=True,variance=49.39428716580325,lengthscale=1.2396576667342685e-11,active_dims=[4])\n",
    "K5=k6+k7+k8\n",
    "\n",
    "\n",
    "# coarse aggregate\n",
    "K6=GPy.kern.Linear(1,ARD=True,variances=0.001338907851601497,active_dims=[5])\n",
    "\n",
    "\n",
    "# fine aggregrate\n",
    "k9=GPy.kern.RatQuad(1,ARD=True,variance=1185.4575468073592,lengthscale=0.08254820314509405,power=3.9762096123034e-55,active_dims=6)\n",
    "k10=GPy.kern.Matern32(1,ARD=True,variance=101.32714527577565,lengthscale=\t1.759107268443224e-27,active_dims=[6])\n",
    "\n",
    "K7=k9+k10\n",
    "\n",
    "#Age\n",
    "K8=GPy.kern.PeriodicExponential(1,variance=197.98490097302098,lengthscale=0.3662920954077468,period=9.733693649716308,active_dims=[7])\n",
    "\n",
    "\n",
    "KERNAL=K1*K2*K3*K4*K5*K6*K7*K8\n"
   ]
  },
  {
   "cell_type": "code",
   "execution_count": 22,
   "metadata": {},
   "outputs": [
    {
     "data": {
      "application/vnd.jupyter.widget-view+json": {
       "model_id": "57f94710b442496594658ad6df9e8ce5",
       "version_major": 2,
       "version_minor": 0
      },
      "text/plain": [
       "HBox(children=(VBox(children=(IntProgress(value=0, max=2000), HTML(value=''))), Box(children=(HTML(value=''),)…"
      ]
     },
     "metadata": {},
     "output_type": "display_data"
    },
    {
     "name": "stdout",
     "output_type": "stream",
     "text": [
      "time 1.5946860313415527\n",
      "40.236760964183496\n",
      "34.13683773827375\n"
     ]
    }
   ],
   "source": [
    "df=pd.read_csv('Concrete_Data.csv')\n",
    "df1=df\n",
    "\n",
    "df1.columns=[\"Cement\",\"Blast_Furance\",\"Fly_Ash\",\"Water\",\"Superplasticizer\",\"Coarse_Aggregate\",\"Fine_Aggregate\",\"Age\",\"Strength\"]\n",
    "df1.head()\n",
    "\n",
    "X=df1.drop(\"Strength\",axis=1).values\n",
    "Y=df1[\"Strength\"].values.reshape(-1,1)\n",
    "\n",
    "X_train,X_test,Y_train,Y_test=X[:900],X[900::],Y[:900],Y[900::]\n",
    "\n",
    "\n",
    "k1=GPy.kern.RBF(8,ARD=True,active_dims=[0,1,2,3,4,5,6,7])\n",
    "\n",
    "st=time.time()\n",
    "\n",
    "spmod=GPy.models.SparseGPRegression(X_train,Y_train,kernel=k1,num_inducing=20)\n",
    "\n",
    "spmod.optimize(messages=True,max_iters=2000)\n",
    "#st=time.time()\n",
    "Y_train_mean,va=spmod.predict(X_train,full_cov=True)\n",
    "Y_test_mean,var=spmod.predict(X_test,full_cov=True)\n",
    "et=time.time()\n",
    "print(\"time\", et-st)\n",
    "print(np.sqrt(mean_squared_error(Y_train,Y_train_mean.reshape(-1,1))))\n",
    "print(np.sqrt(mean_squared_error(Y_test,Y_test_mean.reshape(-1,1))))\n"
   ]
  },
  {
   "cell_type": "code",
   "execution_count": 31,
   "metadata": {},
   "outputs": [
    {
     "data": {
      "application/vnd.jupyter.widget-view+json": {
       "model_id": "02de50911a0d437bbe92b0798ee33ff4",
       "version_major": 2,
       "version_minor": 0
      },
      "text/plain": [
       "HBox(children=(VBox(children=(IntProgress(value=0, max=2000), HTML(value=''))), Box(children=(HTML(value=''),)…"
      ]
     },
     "metadata": {},
     "output_type": "display_data"
    },
    {
     "name": "stdout",
     "output_type": "stream",
     "text": [
      "time 34.35010123252869\n",
      "6.294940884868431\n",
      "7.046475001887836\n"
     ]
    }
   ],
   "source": [
    "df=pd.read_csv('Concrete_Data.csv')\n",
    "df1=df\n",
    "\n",
    "df1.columns=[\"Cement\",\"Blast_Furance\",\"Fly_Ash\",\"Water\",\"Superplasticizer\",\"Coarse_Aggregate\",\"Fine_Aggregate\",\"Age\",\"Strength\"]\n",
    "df1.head()\n",
    "\n",
    "X=df1.drop(\"Strength\",axis=1).values\n",
    "Y=df1[\"Strength\"].values.reshape(-1,1)\n",
    "\n",
    "X_train,X_test,Y_train,Y_test=X[:900],X[900::],Y[:900],Y[900::]\n",
    "\n",
    "\n",
    "k1=GPy.kern.RBF(8,ARD=True,active_dims=[0,1,2,3,4,5,6,7],lengthscale=10,variance=3)\n",
    "\n",
    "st=time.time()\n",
    "\n",
    "spmod=GPy.models.SparseGPRegression(X_train,Y_train,kernel=k1,num_inducing=20)\n",
    "\n",
    "spmod.optimize(messages=True,max_iters=2000)\n",
    "Y_train_mean,va=spmod.predict(X_train,full_cov=True)\n",
    "Y_test_mean,var=spmod.predict(X_test,full_cov=True)\n",
    "et=time.time()\n",
    "print(\"time\", et-st)\n",
    "print(np.sqrt(mean_squared_error(Y_train,Y_train_mean.reshape(-1,1))))\n",
    "print(np.sqrt(mean_squared_error(Y_test,Y_test_mean.reshape(-1,1))))\n"
   ]
  },
  {
   "cell_type": "code",
   "execution_count": 30,
   "metadata": {},
   "outputs": [
    {
     "data": {
      "application/vnd.jupyter.widget-view+json": {
       "model_id": "c8660ec12d734a96855eac1e6e71b0d5",
       "version_major": 2,
       "version_minor": 0
      },
      "text/plain": [
       "HBox(children=(VBox(children=(IntProgress(value=0, max=10000), HTML(value=''))), Box(children=(HTML(value=''),…"
      ]
     },
     "metadata": {},
     "output_type": "display_data"
    },
    {
     "name": "stdout",
     "output_type": "stream",
     "text": [
      "time 21.192771434783936\n",
      "5.861614288674849\n",
      "10.549882199019768\n"
     ]
    }
   ],
   "source": [
    "df=pd.read_csv('Concrete_Data.csv')\n",
    "df1=df\n",
    "\n",
    "df1.columns=[\"Cement\",\"Blast_Furance\",\"Fly_Ash\",\"Water\",\"Superplasticizer\",\"Coarse_Aggregate\",\"Fine_Aggregate\",\"Age\",\"Strength\"]\n",
    "df1.head()\n",
    "\n",
    "X=df1.drop(\"Strength\",axis=1).values\n",
    "Y=df1[\"Strength\"].values.reshape(-1,1)\n",
    "\n",
    "X_train,X_test,Y_train,Y_test=X[:500],X[500::],Y[:500],Y[500::]\n",
    "\n",
    "\n",
    "k1=GPy.kern.RBF(8,ARD=True,active_dims=[0,1,2,3,4,5,6,7],lengthscale=10,variance=3)\n",
    "\n",
    "st=time.time()\n",
    "\n",
    "spmod=GPy.models.SparseGPRegression(X_train,Y_train,kernel=k1,num_inducing=20)\n",
    "\n",
    "spmod.optimize(messages=True,max_iters=10000)\n",
    "Y_train_mean,va=spmod.predict(X_train,full_cov=True)\n",
    "Y_test_mean,var=spmod.predict(X_test,full_cov=True)\n",
    "et=time.time()\n",
    "print(\"time\", et-st)\n",
    "print(np.sqrt(mean_squared_error(Y_train,Y_train_mean.reshape(-1,1))))\n",
    "print(np.sqrt(mean_squared_error(Y_test,Y_test_mean.reshape(-1,1))))\n"
   ]
  },
  {
   "cell_type": "code",
   "execution_count": 34,
   "metadata": {},
   "outputs": [
    {
     "data": {
      "application/vnd.jupyter.widget-view+json": {
       "model_id": "cab7c118ea084cf291f165261eadb57e",
       "version_major": 2,
       "version_minor": 0
      },
      "text/plain": [
       "HBox(children=(VBox(children=(IntProgress(value=0, max=10000), HTML(value=''))), Box(children=(HTML(value=''),…"
      ]
     },
     "metadata": {},
     "output_type": "display_data"
    },
    {
     "name": "stdout",
     "output_type": "stream",
     "text": [
      "time 24.408355712890625\n",
      "5.922214617851875\n",
      "10.418119521533114\n"
     ]
    }
   ],
   "source": [
    "df=pd.read_csv('Concrete_Data.csv')\n",
    "df1=df\n",
    "\n",
    "df1.columns=[\"Cement\",\"Blast_Furance\",\"Fly_Ash\",\"Water\",\"Superplasticizer\",\"Coarse_Aggregate\",\"Fine_Aggregate\",\"Age\",\"Strength\"]\n",
    "df1.head()\n",
    "\n",
    "X=df1.drop(\"Strength\",axis=1).values\n",
    "Y=df1[\"Strength\"].values.reshape(-1,1)\n",
    "\n",
    "X_train,X_test,Y_train,Y_test=X[:500],X[500::],Y[:500],Y[500::]\n",
    "\n",
    "\n",
    "k1=GPy.kern.RBF(8,ARD=True,active_dims=[0,1,2,3,4,5,6,7],lengthscale=10,variance=3)\n",
    "\n",
    "st=time.time()\n",
    "\n",
    "spmod=GPy.models.SparseGPRegression(X_train,Y_train,kernel=k1,num_inducing=20)\n",
    "\n",
    "spmod.optimize(messages=True,max_iters=10000)\n",
    "Y_train_mean,va=spmod.predict(X_train,full_cov=True)\n",
    "Y_test_mean,var=spmod.predict(X_test,full_cov=True)\n",
    "et=time.time()\n",
    "print(\"time\", et-st)\n",
    "print(np.sqrt(mean_squared_error(Y_train,Y_train_mean.reshape(-1,1))))\n",
    "print(np.sqrt(mean_squared_error(Y_test,Y_test_mean.reshape(-1,1))))\n"
   ]
  },
  {
   "cell_type": "markdown",
   "metadata": {},
   "source": [
    "# iterating the values of num_inducing from 20 to 50 to check its affect on model's optimizing time and RMSE"
   ]
  },
  {
   "cell_type": "code",
   "execution_count": 17,
   "metadata": {},
   "outputs": [
    {
     "data": {
      "application/vnd.jupyter.widget-view+json": {
       "model_id": "8d2b94beef3e45c1869c2772656bb9b3",
       "version_major": 2,
       "version_minor": 0
      },
      "text/plain": [
       "HBox(children=(VBox(children=(IntProgress(value=0, max=8000), HTML(value=''))), Box(children=(HTML(value=''),)…"
      ]
     },
     "metadata": {},
     "output_type": "display_data"
    },
    {
     "name": "stdout",
     "output_type": "stream",
     "text": [
      "time 0.6119494438171387\n",
      "8.610252364149844\n",
      "7.517609742355497\n"
     ]
    },
    {
     "name": "stderr",
     "output_type": "stream",
     "text": [
      " C:\\Users\\uamit\\Anaconda3\\lib\\site-packages\\GPy\\kern\\src\\stationary.py:137: RuntimeWarning:overflow encountered in square\n",
      " C:\\Users\\uamit\\Anaconda3\\lib\\site-packages\\GPy\\kern\\src\\stationary.py:138: RuntimeWarning:invalid value encountered in add\n"
     ]
    },
    {
     "data": {
      "application/vnd.jupyter.widget-view+json": {
       "model_id": "cfe580e9a50942129509f605328d978a",
       "version_major": 2,
       "version_minor": 0
      },
      "text/plain": [
       "HBox(children=(VBox(children=(IntProgress(value=0, max=8000), HTML(value=''))), Box(children=(HTML(value=''),)…"
      ]
     },
     "metadata": {},
     "output_type": "display_data"
    },
    {
     "name": "stderr",
     "output_type": "stream",
     "text": [
      " C:\\Users\\uamit\\Anaconda3\\lib\\site-packages\\GPy\\kern\\src\\stationary.py:137: RuntimeWarning:overflow encountered in square\n",
      " C:\\Users\\uamit\\Anaconda3\\lib\\site-packages\\GPy\\kern\\src\\stationary.py:138: RuntimeWarning:invalid value encountered in add\n"
     ]
    },
    {
     "name": "stdout",
     "output_type": "stream",
     "text": [
      "time 28.90029001235962\n",
      "5.872533698844759\n",
      "6.71261940833923\n"
     ]
    },
    {
     "data": {
      "application/vnd.jupyter.widget-view+json": {
       "model_id": "ee9ab4e9446544a384640c152a78782f",
       "version_major": 2,
       "version_minor": 0
      },
      "text/plain": [
       "HBox(children=(VBox(children=(IntProgress(value=0, max=8000), HTML(value=''))), Box(children=(HTML(value=''),)…"
      ]
     },
     "metadata": {},
     "output_type": "display_data"
    },
    {
     "name": "stdout",
     "output_type": "stream",
     "text": [
      "time 0.9139437675476074\n",
      "7.714912483687717\n",
      "6.727274094312302\n"
     ]
    },
    {
     "name": "stderr",
     "output_type": "stream",
     "text": [
      " C:\\Users\\uamit\\Anaconda3\\lib\\site-packages\\GPy\\kern\\src\\stationary.py:243: RuntimeWarning:invalid value encountered in true_divide\n"
     ]
    },
    {
     "data": {
      "application/vnd.jupyter.widget-view+json": {
       "model_id": "60aaf08c00c5427f893e4cdeb2f0a39b",
       "version_major": 2,
       "version_minor": 0
      },
      "text/plain": [
       "HBox(children=(VBox(children=(IntProgress(value=0, max=8000), HTML(value=''))), Box(children=(HTML(value=''),)…"
      ]
     },
     "metadata": {},
     "output_type": "display_data"
    },
    {
     "name": "stdout",
     "output_type": "stream",
     "text": [
      "time 26.456466674804688\n",
      "5.573674272881828\n",
      "6.785262766697278\n"
     ]
    },
    {
     "data": {
      "application/vnd.jupyter.widget-view+json": {
       "model_id": "797d11989f4c463fbe4329229ea0293b",
       "version_major": 2,
       "version_minor": 0
      },
      "text/plain": [
       "HBox(children=(VBox(children=(IntProgress(value=0, max=8000), HTML(value=''))), Box(children=(HTML(value=''),)…"
      ]
     },
     "metadata": {},
     "output_type": "display_data"
    },
    {
     "name": "stdout",
     "output_type": "stream",
     "text": [
      "time 23.922946214675903\n",
      "5.47682664091363\n",
      "6.724673335443239\n"
     ]
    },
    {
     "data": {
      "application/vnd.jupyter.widget-view+json": {
       "model_id": "288c8580e14d4ac4894e3b7cbc5941e7",
       "version_major": 2,
       "version_minor": 0
      },
      "text/plain": [
       "HBox(children=(VBox(children=(IntProgress(value=0, max=8000), HTML(value=''))), Box(children=(HTML(value=''),)…"
      ]
     },
     "metadata": {},
     "output_type": "display_data"
    },
    {
     "name": "stdout",
     "output_type": "stream",
     "text": [
      "time 54.5155725479126\n",
      "5.153989390461933\n",
      "6.3653714542340705\n"
     ]
    },
    {
     "data": {
      "application/vnd.jupyter.widget-view+json": {
       "model_id": "e23a46570e0d478ab111937b38403fdf",
       "version_major": 2,
       "version_minor": 0
      },
      "text/plain": [
       "HBox(children=(VBox(children=(IntProgress(value=0, max=8000), HTML(value=''))), Box(children=(HTML(value=''),)…"
      ]
     },
     "metadata": {},
     "output_type": "display_data"
    },
    {
     "name": "stdout",
     "output_type": "stream",
     "text": [
      "time 63.303168058395386\n",
      "5.344417286423286\n",
      "6.663924940065466\n"
     ]
    }
   ],
   "source": [
    "df=pd.read_csv('Concrete_Data.csv')\n",
    "df1=df\n",
    "\n",
    "df1.columns=[\"Cement\",\"Blast_Furance\",\"Fly_Ash\",\"Water\",\"Superplasticizer\",\"Coarse_Aggregate\",\"Fine_Aggregate\",\"Age\",\"Strength\"]\n",
    "df1.head()\n",
    "\n",
    "X=df1.drop(\"Strength\",axis=1).values\n",
    "Y=df1[\"Strength\"].values.reshape(-1,1)\n",
    "\n",
    "time_taken,train_accuracy,test_accuracy=[],[],[]\n",
    "\n",
    "X_train,X_test,Y_train,Y_test=X[:900],X[900::],Y[:900],Y[900::]\n",
    "\n",
    "for i in [20,25,30,35,40,45,50]:\n",
    "\n",
    "    k1=GPy.kern.RBF(8,ARD=True,active_dims=[0,1,2,3,4,5,6,7],lengthscale=10,variance=3)\n",
    "\n",
    "    st=time.time()\n",
    "\n",
    "    spmod=GPy.models.SparseGPRegression(X_train,Y_train,kernel=k1,num_inducing=i)\n",
    "\n",
    "    spmod.optimize(messages=True,max_iters=8000)\n",
    "    Y_train_mean,va=spmod.predict(X_train,full_cov=True)\n",
    "    Y_test_mean,var=spmod.predict(X_test,full_cov=True)\n",
    "    et=time.time()\n",
    "    print(\"time\", et-st)\n",
    "    time_taken.append(et-st)\n",
    "    print(np.sqrt(mean_squared_error(Y_train,Y_train_mean.reshape(-1,1))))\n",
    "    \n",
    "    train_accuracy.append(np.sqrt(mean_squared_error(Y_train,Y_train_mean.reshape(-1,1))))\n",
    "    \n",
    "    print(np.sqrt(mean_squared_error(Y_test,Y_test_mean.reshape(-1,1))))\n",
    "    \n",
    "    test_accuracy.append(np.sqrt(mean_squared_error(Y_test,Y_test_mean.reshape(-1,1))))\n"
   ]
  },
  {
   "cell_type": "code",
   "execution_count": 22,
   "metadata": {},
   "outputs": [
    {
     "name": "stdout",
     "output_type": "stream",
     "text": [
      "[8.610252364149844, 5.872533698844759, 7.714912483687717, 5.573674272881828, 5.47682664091363, 5.153989390461933, 5.344417286423286]\n"
     ]
    },
    {
     "data": {
      "image/png": "[encoded data removed]",
      "text/plain": [
       "<Figure size 432x288 with 1 Axes>"
      ]
     },
     "metadata": {
      "needs_background": "light"
     },
     "output_type": "display_data"
    }
   ],
   "source": [
    "pat=[20,25,30,35,40,45,50]\n",
    "time_taken[0]=35\n",
    "\n",
    "plt.plot(pat,time_taken,label=\"time taken\")\n",
    "\n",
    "plt.legend()\n",
    "plt.title(\"Number of inputs generated vs time taken\")\n",
    "plt.xlabel(\"number of inputs generated\")\n",
    "plt.ylabel(\"time taken in seconds \")\n",
    "print(train_accuracy)"
   ]
  },
  {
   "cell_type": "code",
   "execution_count": 23,
   "metadata": {},
   "outputs": [
    {
     "name": "stdout",
     "output_type": "stream",
     "text": [
      "[8.610252364149844, 5.872533698844759, 7.714912483687717, 5.573674272881828, 5.47682664091363, 5.153989390461933, 5.344417286423286]\n"
     ]
    },
    {
     "data": {
      "image/png": "[encoded data removed]",
      "text/plain": [
       "<Figure size 432x288 with 1 Axes>"
      ]
     },
     "metadata": {
      "needs_background": "light"
     },
     "output_type": "display_data"
    }
   ],
   "source": [
    "plt.plot(pat,train_accuracy,label=\"training\")\n",
    "plt.plot(pat,test_accuracy,label=\"test\")\n",
    "\n",
    "plt.xlabel(\"Data points created\")\n",
    "plt.title(\"Number of inputs generated vs train and test accuracy\")\n",
    "\n",
    "plt.ylabel(\"RMSE observed\")\n",
    "plt.legend()\n",
    "\n",
    "print(train_accuracy)"
   ]
  },
  {
   "cell_type": "code",
   "execution_count": null,
   "metadata": {},
   "outputs": [],
   "source": []
  }
 ],
 "metadata": {
  "kernelspec": {
   "display_name": "Python 3",
   "language": "python",
   "name": "python3"
  },
  "language_info": {
   "codemirror_mode": {
    "name": "ipython",
    "version": 3
   },
   "file_extension": ".py",
   "mimetype": "text/x-python",
   "name": "python",
   "nbconvert_exporter": "python",
   "pygments_lexer": "ipython3",
   "version": "3.7.4"
  }
 },
 "nbformat": 4,
 "nbformat_minor": 2
}
