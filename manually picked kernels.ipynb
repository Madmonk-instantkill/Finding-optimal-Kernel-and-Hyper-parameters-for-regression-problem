{
 "cells": [
  {
   "cell_type": "code",
   "execution_count": 22,
   "metadata": {},
   "outputs": [],
   "source": [
    "import GPy\n",
    "import matplotlib.pyplot as plt\n",
    "import pandas as pd\n",
    "import numpy as np\n",
    "from sklearn.model_selection import train_test_split\n",
    "import seaborn as sns\n",
    "\n",
    "from sklearn.preprocessing import StandardScaler\n",
    "\n",
    "from sklearn.metrics import mean_squared_error\n",
    "\n",
    "import time"
   ]
  },
  {
   "cell_type": "code",
   "execution_count": 23,
   "metadata": {},
   "outputs": [],
   "source": [
    "df=pd.read_csv('Concrete_Data.csv')\n",
    "df1=df\n",
    "\n",
    "df1.columns=[\"Cement\",\"Blast_Furance\",\"Fly_Ash\",\"Water\",\"Superplasticizer\",\"Coarse_Aggregate\",\"Fine_Aggregate\",\"Age\",\"Strength\"]\n",
    "df1.head()\n",
    "\n",
    "X=df1.drop(\"Strength\",axis=1).values\n",
    "Y=df1[\"Strength\"].values.reshape(-1,1)\n",
    "\n",
    "X_train,X_test,Y_train,Y_test=X[:900],X[900::],Y[:900],Y[900::]\n"
   ]
  },
  {
   "cell_type": "code",
   "execution_count": 24,
   "metadata": {},
   "outputs": [
    {
     "name": "stderr",
     "output_type": "stream",
     "text": [
      " C:\\Users\\uamit\\Anaconda3\\lib\\site-packages\\paramz\\transformations.py:111: RuntimeWarning:overflow encountered in expm1\n"
     ]
    }
   ],
   "source": [
    "\n",
    "#Cement\n",
    "K1=GPy.kern.Matern32(1,ARD=True,variance=4169.465933438534,lengthscale=1549.9147563919944,active_dims=[0])\n",
    "\n",
    "#Blast_Furance\n",
    "k1=GPy.kern.PeriodicExponential(1,variance=9.361692650954631e-07,lengthscale=147.2139294986865,period=19.101741117437783,active_dims=[1])\n",
    "k2=GPy.kern.RBF(1,ARD=True,variance=189.65509369615947,lengthscale=214.5073292829563,active_dims=[1])\n",
    "k3=GPy.kern.Matern32(1,ARD=True,variance=112.94406169745655,lengthscale=1.3663048254769852e-95,active_dims=[1])\n",
    "K2=k1+k2+k3\n",
    "\n",
    "\n",
    "#Fly_ash\n",
    "k4=GPy.kern.RBF(1,ARD=True,variance=1221.6749702362074,lengthscale=1132.6018572227545,active_dims=[2])\n",
    "k5=GPy.kern.Matern32(1,ARD=True,variance=11.712243768585925,lengthscale=0.058175069229113856,active_dims=[2])\n",
    "\n",
    "K3=k4+k5\n",
    "\n",
    "#water\n",
    "K4=GPy.kern.Exponential(1,ARD=True,variance=1445.9271756267851,lengthscale=50.55227037981031,active_dims=[3])\n",
    "\n",
    "\n",
    "#Superplasticizer\n",
    "k6=GPy.kern.RBF(1,ARD=True,variance=1304.0943832273217,lengthscale=50.9404018497552,active_dims=[4])\n",
    "k7=GPy.kern.Matern32(1,ARD=True,variance=1164.1031437031368,lengthscale=327.4938419600094,active_dims=[4])\n",
    "k8=GPy.kern.Exponential(1,ARD=True,variance=49.39428716580325,lengthscale=1.2396576667342685e-11,active_dims=[4])\n",
    "K5=k6+k7+k8\n",
    "\n",
    "\n",
    "# coarse aggregate\n",
    "K6=GPy.kern.Linear(1,ARD=True,variances=0.001338907851601497,active_dims=[5])\n",
    "\n",
    "\n",
    "# fine aggregrate\n",
    "k9=GPy.kern.RatQuad(1,ARD=True,variance=1185.4575468073592,lengthscale=0.08254820314509405,power=3.9762096123034e-55,active_dims=6)\n",
    "k10=GPy.kern.Matern32(1,ARD=True,variance=101.32714527577565,lengthscale=\t1.759107268443224e-27,active_dims=[6])\n",
    "\n",
    "K7=k9+k10\n",
    "\n",
    "#Age\n",
    "K8=GPy.kern.PeriodicExponential(1,variance=197.98490097302098,lengthscale=0.3662920954077468,period=9.733693649716308,active_dims=[7])\n"
   ]
  },
  {
   "cell_type": "code",
   "execution_count": 25,
   "metadata": {},
   "outputs": [],
   "source": [
    "KERNAL=K1+K2+K3+K4+K5+K6+K7+K8"
   ]
  },
  {
   "cell_type": "code",
   "execution_count": 26,
   "metadata": {
    "scrolled": true
   },
   "outputs": [
    {
     "data": {
      "text/html": [
       "<style type=\"text/css\">\n",
       ".pd{\n",
       "    font-family: \"Courier New\", Courier, monospace !important;\n",
       "    width: 100%;\n",
       "    padding: 3px;\n",
       "}\n",
       "</style>\n",
       "\n",
       "<p class=pd>\n",
       "<b>Model</b>: GP regression<br>\n",
       "<b>Objective</b>: 7391.245252435585<br>\n",
       "<b>Number of Parameters</b>: 31<br>\n",
       "<b>Number of Optimization Parameters</b>: 31<br>\n",
       "<b>Updates</b>: True<br>\n",
       "</p>\n",
       "<style type=\"text/css\">\n",
       ".tg  {font-family:\"Courier New\", Courier, monospace !important;padding:2px 3px;word-break:normal;border-collapse:collapse;border-spacing:0;border-color:#DCDCDC;margin:0px auto;width:100%;}\n",
       ".tg td{font-family:\"Courier New\", Courier, monospace !important;font-weight:bold;color:#444;background-color:#F7FDFA;border-style:solid;border-width:1px;overflow:hidden;word-break:normal;border-color:#DCDCDC;}\n",
       ".tg th{font-family:\"Courier New\", Courier, monospace !important;font-weight:normal;color:#fff;background-color:#26ADE4;border-style:solid;border-width:1px;overflow:hidden;word-break:normal;border-color:#DCDCDC;}\n",
       ".tg .tg-left{font-family:\"Courier New\", Courier, monospace !important;font-weight:normal;text-align:left;}\n",
       ".tg .tg-center{font-family:\"Courier New\", Courier, monospace !important;font-weight:normal;text-align:center;}\n",
       ".tg .tg-right{font-family:\"Courier New\", Courier, monospace !important;font-weight:normal;text-align:right;}\n",
       "</style>\n",
       "<table class=\"tg\"><tr><th><b>  GP_regression.                        </b></th><th><b>                 value</b></th><th><b>constraints</b></th><th><b>priors</b></th></tr>\n",
       "<tr><td class=tg-left>  sum.Mat32.variance                    </td><td class=tg-right>     4169.465933438534</td><td class=tg-center>    +ve    </td><td class=tg-center>      </td></tr>\n",
       "<tr><td class=tg-left>  sum.Mat32.lengthscale                 </td><td class=tg-right>    1549.9147563919944</td><td class=tg-center>    +ve    </td><td class=tg-center>      </td></tr>\n",
       "<tr><td class=tg-left>  sum.periodic_exponential.variance     </td><td class=tg-right> 9.361692650954631e-07</td><td class=tg-center>    +ve    </td><td class=tg-center>      </td></tr>\n",
       "<tr><td class=tg-left>  sum.periodic_exponential.lengthscale  </td><td class=tg-right>     147.2139294986865</td><td class=tg-center>    +ve    </td><td class=tg-center>      </td></tr>\n",
       "<tr><td class=tg-left>  sum.periodic_exponential.period       </td><td class=tg-right>    19.101741117437783</td><td class=tg-center>    +ve    </td><td class=tg-center>      </td></tr>\n",
       "<tr><td class=tg-left>  sum.rbf.variance                      </td><td class=tg-right>    189.65509369615947</td><td class=tg-center>    +ve    </td><td class=tg-center>      </td></tr>\n",
       "<tr><td class=tg-left>  sum.rbf.lengthscale                   </td><td class=tg-right>     214.5073292829563</td><td class=tg-center>    +ve    </td><td class=tg-center>      </td></tr>\n",
       "<tr><td class=tg-left>  sum.Mat32_1.variance                  </td><td class=tg-right>    112.94406169745655</td><td class=tg-center>    +ve    </td><td class=tg-center>      </td></tr>\n",
       "<tr><td class=tg-left>  sum.Mat32_1.lengthscale               </td><td class=tg-right>1.3663048254769852e-95</td><td class=tg-center>    +ve    </td><td class=tg-center>      </td></tr>\n",
       "<tr><td class=tg-left>  sum.rbf_1.variance                    </td><td class=tg-right>    1221.6749702362074</td><td class=tg-center>    +ve    </td><td class=tg-center>      </td></tr>\n",
       "<tr><td class=tg-left>  sum.rbf_1.lengthscale                 </td><td class=tg-right>    1132.6018572227545</td><td class=tg-center>    +ve    </td><td class=tg-center>      </td></tr>\n",
       "<tr><td class=tg-left>  sum.Mat32_2.variance                  </td><td class=tg-right>    11.712243768585925</td><td class=tg-center>    +ve    </td><td class=tg-center>      </td></tr>\n",
       "<tr><td class=tg-left>  sum.Mat32_2.lengthscale               </td><td class=tg-right>  0.058175069229113856</td><td class=tg-center>    +ve    </td><td class=tg-center>      </td></tr>\n",
       "<tr><td class=tg-left>  sum.Exponential.variance              </td><td class=tg-right>    1445.9271756267851</td><td class=tg-center>    +ve    </td><td class=tg-center>      </td></tr>\n",
       "<tr><td class=tg-left>  sum.Exponential.lengthscale           </td><td class=tg-right>     50.55227037981031</td><td class=tg-center>    +ve    </td><td class=tg-center>      </td></tr>\n",
       "<tr><td class=tg-left>  sum.rbf_2.variance                    </td><td class=tg-right>    1304.0943832273217</td><td class=tg-center>    +ve    </td><td class=tg-center>      </td></tr>\n",
       "<tr><td class=tg-left>  sum.rbf_2.lengthscale                 </td><td class=tg-right>      50.9404018497552</td><td class=tg-center>    +ve    </td><td class=tg-center>      </td></tr>\n",
       "<tr><td class=tg-left>  sum.Mat32_3.variance                  </td><td class=tg-right>    1164.1031437031368</td><td class=tg-center>    +ve    </td><td class=tg-center>      </td></tr>\n",
       "<tr><td class=tg-left>  sum.Mat32_3.lengthscale               </td><td class=tg-right>     327.4938419600094</td><td class=tg-center>    +ve    </td><td class=tg-center>      </td></tr>\n",
       "<tr><td class=tg-left>  sum.Exponential_1.variance            </td><td class=tg-right>     49.39428716580325</td><td class=tg-center>    +ve    </td><td class=tg-center>      </td></tr>\n",
       "<tr><td class=tg-left>  sum.Exponential_1.lengthscale         </td><td class=tg-right>1.2396576667342685e-11</td><td class=tg-center>    +ve    </td><td class=tg-center>      </td></tr>\n",
       "<tr><td class=tg-left>  sum.linear.variances                  </td><td class=tg-right>  0.001338907851601497</td><td class=tg-center>    +ve    </td><td class=tg-center>      </td></tr>\n",
       "<tr><td class=tg-left>  sum.RatQuad.variance                  </td><td class=tg-right>    1185.4575468073592</td><td class=tg-center>    +ve    </td><td class=tg-center>      </td></tr>\n",
       "<tr><td class=tg-left>  sum.RatQuad.lengthscale               </td><td class=tg-right>   0.08254820314509405</td><td class=tg-center>    +ve    </td><td class=tg-center>      </td></tr>\n",
       "<tr><td class=tg-left>  sum.RatQuad.power                     </td><td class=tg-right>   3.9762096123034e-55</td><td class=tg-center>    +ve    </td><td class=tg-center>      </td></tr>\n",
       "<tr><td class=tg-left>  sum.Mat32_4.variance                  </td><td class=tg-right>    101.32714527577565</td><td class=tg-center>    +ve    </td><td class=tg-center>      </td></tr>\n",
       "<tr><td class=tg-left>  sum.Mat32_4.lengthscale               </td><td class=tg-right> 1.759107268443224e-27</td><td class=tg-center>    +ve    </td><td class=tg-center>      </td></tr>\n",
       "<tr><td class=tg-left>  sum.periodic_exponential_1.variance   </td><td class=tg-right>    197.98490097302098</td><td class=tg-center>    +ve    </td><td class=tg-center>      </td></tr>\n",
       "<tr><td class=tg-left>  sum.periodic_exponential_1.lengthscale</td><td class=tg-right>    0.3662920954077468</td><td class=tg-center>    +ve    </td><td class=tg-center>      </td></tr>\n",
       "<tr><td class=tg-left>  sum.periodic_exponential_1.period     </td><td class=tg-right>     9.733693649716308</td><td class=tg-center>    +ve    </td><td class=tg-center>      </td></tr>\n",
       "<tr><td class=tg-left>  Gaussian_noise.variance               </td><td class=tg-right>                   1.0</td><td class=tg-center>    +ve    </td><td class=tg-center>      </td></tr>\n",
       "</table>"
      ],
      "text/plain": [
       "<GPy.models.gp_regression.GPRegression at 0x28938254d48>"
      ]
     },
     "execution_count": 26,
     "metadata": {},
     "output_type": "execute_result"
    }
   ],
   "source": [
    "main=GPy.models.GPRegression(X_train,Y_train,kernel=KERNAL)\n",
    "main"
   ]
  },
  {
   "cell_type": "code",
   "execution_count": 27,
   "metadata": {},
   "outputs": [
    {
     "data": {
      "application/vnd.jupyter.widget-view+json": {
       "model_id": "cfa2583266444942a17737ad2a542f1e",
       "version_major": 2,
       "version_minor": 0
      },
      "text/plain": [
       "HBox(children=(VBox(children=(IntProgress(value=0, max=1000), HTML(value=''))), Box(children=(HTML(value=''),)…"
      ]
     },
     "metadata": {},
     "output_type": "display_data"
    },
    {
     "name": "stdout",
     "output_type": "stream",
     "text": [
      "Time taken = 103.77 seconds\n"
     ]
    },
    {
     "data": {
      "text/html": [
       "<style type=\"text/css\">\n",
       ".pd{\n",
       "    font-family: \"Courier New\", Courier, monospace !important;\n",
       "    width: 100%;\n",
       "    padding: 3px;\n",
       "}\n",
       "</style>\n",
       "\n",
       "<p class=pd>\n",
       "<b>Model</b>: GP regression<br>\n",
       "<b>Objective</b>: 2889.1251182166648<br>\n",
       "<b>Number of Parameters</b>: 31<br>\n",
       "<b>Number of Optimization Parameters</b>: 31<br>\n",
       "<b>Updates</b>: True<br>\n",
       "</p>\n",
       "<style type=\"text/css\">\n",
       ".tg  {font-family:\"Courier New\", Courier, monospace !important;padding:2px 3px;word-break:normal;border-collapse:collapse;border-spacing:0;border-color:#DCDCDC;margin:0px auto;width:100%;}\n",
       ".tg td{font-family:\"Courier New\", Courier, monospace !important;font-weight:bold;color:#444;background-color:#F7FDFA;border-style:solid;border-width:1px;overflow:hidden;word-break:normal;border-color:#DCDCDC;}\n",
       ".tg th{font-family:\"Courier New\", Courier, monospace !important;font-weight:normal;color:#fff;background-color:#26ADE4;border-style:solid;border-width:1px;overflow:hidden;word-break:normal;border-color:#DCDCDC;}\n",
       ".tg .tg-left{font-family:\"Courier New\", Courier, monospace !important;font-weight:normal;text-align:left;}\n",
       ".tg .tg-center{font-family:\"Courier New\", Courier, monospace !important;font-weight:normal;text-align:center;}\n",
       ".tg .tg-right{font-family:\"Courier New\", Courier, monospace !important;font-weight:normal;text-align:right;}\n",
       "</style>\n",
       "<table class=\"tg\"><tr><th><b>  GP_regression.                        </b></th><th><b>                 value</b></th><th><b>constraints</b></th><th><b>priors</b></th></tr>\n",
       "<tr><td class=tg-left>  sum.Mat32.variance                    </td><td class=tg-right>     4169.494375977231</td><td class=tg-center>    +ve    </td><td class=tg-center>      </td></tr>\n",
       "<tr><td class=tg-left>  sum.Mat32.lengthscale                 </td><td class=tg-right>    1549.7579052182289</td><td class=tg-center>    +ve    </td><td class=tg-center>      </td></tr>\n",
       "<tr><td class=tg-left>  sum.periodic_exponential.variance     </td><td class=tg-right> 9.326123635900449e-07</td><td class=tg-center>    +ve    </td><td class=tg-center>      </td></tr>\n",
       "<tr><td class=tg-left>  sum.periodic_exponential.lengthscale  </td><td class=tg-right>    147.21395312579432</td><td class=tg-center>    +ve    </td><td class=tg-center>      </td></tr>\n",
       "<tr><td class=tg-left>  sum.periodic_exponential.period       </td><td class=tg-right>    19.073646309254944</td><td class=tg-center>    +ve    </td><td class=tg-center>      </td></tr>\n",
       "<tr><td class=tg-left>  sum.rbf.variance                      </td><td class=tg-right>    189.33368381765763</td><td class=tg-center>    +ve    </td><td class=tg-center>      </td></tr>\n",
       "<tr><td class=tg-left>  sum.rbf.lengthscale                   </td><td class=tg-right>    215.37883358272546</td><td class=tg-center>    +ve    </td><td class=tg-center>      </td></tr>\n",
       "<tr><td class=tg-left>  sum.Mat32_1.variance                  </td><td class=tg-right>     66.04697919593809</td><td class=tg-center>    +ve    </td><td class=tg-center>      </td></tr>\n",
       "<tr><td class=tg-left>  sum.Mat32_1.lengthscale               </td><td class=tg-right>1.3663048254769852e-95</td><td class=tg-center>    +ve    </td><td class=tg-center>      </td></tr>\n",
       "<tr><td class=tg-left>  sum.rbf_1.variance                    </td><td class=tg-right>     1221.628117490389</td><td class=tg-center>    +ve    </td><td class=tg-center>      </td></tr>\n",
       "<tr><td class=tg-left>  sum.rbf_1.lengthscale                 </td><td class=tg-right>    1132.6859820525729</td><td class=tg-center>    +ve    </td><td class=tg-center>      </td></tr>\n",
       "<tr><td class=tg-left>  sum.Mat32_2.variance                  </td><td class=tg-right> 7.402972110915154e-14</td><td class=tg-center>    +ve    </td><td class=tg-center>      </td></tr>\n",
       "<tr><td class=tg-left>  sum.Mat32_2.lengthscale               </td><td class=tg-right>     0.857174620752873</td><td class=tg-center>    +ve    </td><td class=tg-center>      </td></tr>\n",
       "<tr><td class=tg-left>  sum.Exponential.variance              </td><td class=tg-right>    1443.7828559480563</td><td class=tg-center>    +ve    </td><td class=tg-center>      </td></tr>\n",
       "<tr><td class=tg-left>  sum.Exponential.lengthscale           </td><td class=tg-right>    108.92874245837979</td><td class=tg-center>    +ve    </td><td class=tg-center>      </td></tr>\n",
       "<tr><td class=tg-left>  sum.rbf_2.variance                    </td><td class=tg-right>    1304.0358924910972</td><td class=tg-center>    +ve    </td><td class=tg-center>      </td></tr>\n",
       "<tr><td class=tg-left>  sum.rbf_2.lengthscale                 </td><td class=tg-right>     53.78215215356929</td><td class=tg-center>    +ve    </td><td class=tg-center>      </td></tr>\n",
       "<tr><td class=tg-left>  sum.Mat32_3.variance                  </td><td class=tg-right>     1164.091609851547</td><td class=tg-center>    +ve    </td><td class=tg-center>      </td></tr>\n",
       "<tr><td class=tg-left>  sum.Mat32_3.lengthscale               </td><td class=tg-right>     327.5209961430745</td><td class=tg-center>    +ve    </td><td class=tg-center>      </td></tr>\n",
       "<tr><td class=tg-left>  sum.Exponential_1.variance            </td><td class=tg-right>     1.867659643378782</td><td class=tg-center>    +ve    </td><td class=tg-center>      </td></tr>\n",
       "<tr><td class=tg-left>  sum.Exponential_1.lengthscale         </td><td class=tg-right>1.2396576667342685e-11</td><td class=tg-center>    +ve    </td><td class=tg-center>      </td></tr>\n",
       "<tr><td class=tg-left>  sum.linear.variances                  </td><td class=tg-right> 3.199964960730847e-37</td><td class=tg-center>    +ve    </td><td class=tg-center>      </td></tr>\n",
       "<tr><td class=tg-left>  sum.RatQuad.variance                  </td><td class=tg-right>     1185.449671625353</td><td class=tg-center>    +ve    </td><td class=tg-center>      </td></tr>\n",
       "<tr><td class=tg-left>  sum.RatQuad.lengthscale               </td><td class=tg-right>   0.08254820314509405</td><td class=tg-center>    +ve    </td><td class=tg-center>      </td></tr>\n",
       "<tr><td class=tg-left>  sum.RatQuad.power                     </td><td class=tg-right>   3.9762096123034e-55</td><td class=tg-center>    +ve    </td><td class=tg-center>      </td></tr>\n",
       "<tr><td class=tg-left>  sum.Mat32_4.variance                  </td><td class=tg-right>     5.473058900129306</td><td class=tg-center>    +ve    </td><td class=tg-center>      </td></tr>\n",
       "<tr><td class=tg-left>  sum.Mat32_4.lengthscale               </td><td class=tg-right> 1.759107268443224e-27</td><td class=tg-center>    +ve    </td><td class=tg-center>      </td></tr>\n",
       "<tr><td class=tg-left>  sum.periodic_exponential_1.variance   </td><td class=tg-right>     229.0313858835061</td><td class=tg-center>    +ve    </td><td class=tg-center>      </td></tr>\n",
       "<tr><td class=tg-left>  sum.periodic_exponential_1.lengthscale</td><td class=tg-right>   0.09184991131564717</td><td class=tg-center>    +ve    </td><td class=tg-center>      </td></tr>\n",
       "<tr><td class=tg-left>  sum.periodic_exponential_1.period     </td><td class=tg-right>     4.153988338586342</td><td class=tg-center>    +ve    </td><td class=tg-center>      </td></tr>\n",
       "<tr><td class=tg-left>  Gaussian_noise.variance               </td><td class=tg-right>    20.312021635712217</td><td class=tg-center>    +ve    </td><td class=tg-center>      </td></tr>\n",
       "</table>"
      ],
      "text/plain": [
       "<GPy.models.gp_regression.GPRegression at 0x28938254d48>"
      ]
     },
     "execution_count": 27,
     "metadata": {},
     "output_type": "execute_result"
    }
   ],
   "source": [
    "st=time.time()\n",
    "main.optimize(messages=True)\n",
    "\n",
    "en = time.time()\n",
    "print('Time taken = {:.2f} seconds'.format(en-st))\n",
    "main"
   ]
  },
  {
   "cell_type": "code",
   "execution_count": null,
   "metadata": {},
   "outputs": [],
   "source": [
    "    "
   ]
  },
  {
   "cell_type": "code",
   "execution_count": 28,
   "metadata": {},
   "outputs": [
    {
     "name": "stdout",
     "output_type": "stream",
     "text": [
      "3.787737195201061\n",
      "5.477313270855048\n"
     ]
    }
   ],
   "source": [
    "mean,variance=main.predict(X_train)\n",
    "print(np.sqrt(mean_squared_error(Y_train,mean.reshape(-1,1))))\n",
    "mean1,variance1=main.predict(X_test)\n",
    "print(np.sqrt(mean_squared_error(Y_test,mean1.reshape(-1,1))))\n"
   ]
  },
  {
   "cell_type": "code",
   "execution_count": 32,
   "metadata": {},
   "outputs": [
    {
     "name": "stdout",
     "output_type": "stream",
     "text": [
      "for ridge training : 10.703553397006646\n",
      "for linear training : 10.703553396635884\n",
      "for ridge test : 7.77920530176781\n",
      "for linear test : 7.77920530176781\n"
     ]
    }
   ],
   "source": [
    "from sklearn.linear_model import LinearRegression\n",
    "from sklearn.linear_model import Ridge\n",
    "\n",
    "\n",
    "ridge=Ridge(alpha=1)\n",
    "linear=LinearRegression()\n",
    "\n",
    "linear.fit(X_train,Y_train)\n",
    "ridge.fit(X_train,Y_train)\n",
    "\n",
    "prediction_linear1=linear.predict(X_train)\n",
    "prediction1=ridge.predict(X_train)\n",
    "print(\"for ridge training :\",np.sqrt(mean_squared_error(Y_train,prediction1)))\n",
    "print(\"for linear training :\",np.sqrt(mean_squared_error(Y_train,prediction_linear1)))\n",
    "\n",
    "\n",
    "prediction_linear=ridge.predict(X_test)\n",
    "prediction=ridge.predict(X_test)\n",
    "print(\"for ridge test :\",np.sqrt(mean_squared_error(Y_test,prediction)))\n",
    "print(\"for linear test :\",np.sqrt(mean_squared_error(Y_test,prediction_linear)))"
   ]
  },
  {
   "cell_type": "markdown",
   "metadata": {},
   "source": [
    "# running matern with ARD on for entire dataset and time stamp on"
   ]
  },
  {
   "cell_type": "code",
   "execution_count": 29,
   "metadata": {},
   "outputs": [
    {
     "data": {
      "application/vnd.jupyter.widget-view+json": {
       "model_id": "bb14619e7ee94c81932ce945edae5612",
       "version_major": 2,
       "version_minor": 0
      },
      "text/plain": [
       "HBox(children=(VBox(children=(IntProgress(value=0, max=1000), HTML(value=''))), Box(children=(HTML(value=''),)…"
      ]
     },
     "metadata": {},
     "output_type": "display_data"
    },
    {
     "name": "stdout",
     "output_type": "stream",
     "text": [
      "Time taken = 44.34 seconds\n",
      "training error= 2.8349910129807316\n",
      "test error= 5.301972258490346\n"
     ]
    },
    {
     "data": {
      "text/plain": [
       "Text(0.5, 1.0, 'ARD when only Matern32 function was applied to all features')"
      ]
     },
     "execution_count": 29,
     "metadata": {},
     "output_type": "execute_result"
    },
    {
     "data": {
      "image/png": "[encoded data removed]",
      "text/plain": [
       "<Figure size 1008x432 with 1 Axes>"
      ]
     },
     "metadata": {
      "needs_background": "light"
     },
     "output_type": "display_data"
    }
   ],
   "source": [
    "st=time.time()\n",
    "k1=GPy.kern.Matern32(8,ARD=True,active_dims=[0,1,2,3,4,5,6,7])\n",
    "mod=GPy.models.GPRegression(X_train,Y_train,k1)\n",
    "mod.optimize(messages=True)\n",
    "en = time.time()\n",
    "print('Time taken = {:.2f} seconds'.format(en-st))\n",
    "\n",
    "mean,variance=mod.predict(X_train)\n",
    "mean1,variance1=mod.predict(X_test)\n",
    "print(\"training error=\",np.sqrt(mean_squared_error(Y_train,mean)))\n",
    "print(\"test error=\",np.sqrt(mean_squared_error(Y_test,mean1)))\n",
    "\n",
    "relvec = 1/np.array(mod.kern.lengthscale)\n",
    "fig = plt.figure(figsize=(14,6))\n",
    "ax = plt.subplot(111)\n",
    "names=df1.columns\n",
    "ax.bar(np.array(np.arange(8)),relvec,color=\"purple\")\n",
    "ax.set_xticks(np.array(np.arange(8)))\n",
    "xn = ax.set_xticklabels(names)\n",
    "ax.set_facecolor('xkcd:salmon')\n",
    "ax.set_facecolor((1.0, 0.47, 0.42))\n",
    "\n",
    "plt.title(\"ARD when only Matern32 function was applied to all features\")\n"
   ]
  },
  {
   "cell_type": "markdown",
   "metadata": {},
   "source": [
    "# running RBF with ARD on for entire dataset and time stamp on"
   ]
  },
  {
   "cell_type": "code",
   "execution_count": 30,
   "metadata": {},
   "outputs": [
    {
     "data": {
      "application/vnd.jupyter.widget-view+json": {
       "model_id": "dca8c96ec81647ffb673a50f078d5ae4",
       "version_major": 2,
       "version_minor": 0
      },
      "text/plain": [
       "HBox(children=(VBox(children=(IntProgress(value=0, max=1000), HTML(value=''))), Box(children=(HTML(value=''),)…"
      ]
     },
     "metadata": {},
     "output_type": "display_data"
    },
    {
     "name": "stdout",
     "output_type": "stream",
     "text": [
      "Time taken = 30.08 seconds\n",
      "training error= 3.3083462632187763\n",
      "test error= 5.566599129924104\n"
     ]
    },
    {
     "data": {
      "text/plain": [
       "Text(0.5, 1.0, 'ARD when only RBF function was applied to all features')"
      ]
     },
     "execution_count": 30,
     "metadata": {},
     "output_type": "execute_result"
    },
    {
     "data": {
      "image/png": "[encoded data removed]",
      "text/plain": [
       "<Figure size 1008x432 with 1 Axes>"
      ]
     },
     "metadata": {
      "needs_background": "light"
     },
     "output_type": "display_data"
    }
   ],
   "source": [
    "st=time.time()\n",
    "k1=GPy.kern.RBF(8,ARD=True,active_dims=[0,1,2,3,4,5,6,7])\n",
    "mod=GPy.models.GPRegression(X_train,Y_train,k1)\n",
    "mod.optimize(messages=True)\n",
    "en = time.time()\n",
    "print('Time taken = {:.2f} seconds'.format(en-st))\n",
    "\n",
    "mean,variance=mod.predict(X_train)\n",
    "mean1,variance1=mod.predict(X_test)\n",
    "print(\"training error=\",np.sqrt(mean_squared_error(Y_train,mean)))\n",
    "print(\"test error=\",np.sqrt(mean_squared_error(Y_test,mean1)))\n",
    "\n",
    "relvec = 1/np.array(mod.kern.lengthscale)\n",
    "fig = plt.figure(figsize=(14,6))\n",
    "ax = plt.subplot(111)\n",
    "names=df1.columns\n",
    "ax.bar(np.array(np.arange(8)),relvec,color=\"purple\")\n",
    "ax.set_xticks(np.array(np.arange(8)))\n",
    "xn = ax.set_xticklabels(names)\n",
    "ax.set_facecolor('xkcd:salmon')\n",
    "ax.set_facecolor((1.0, 0.47, 0.42))\n",
    "\n",
    "plt.title(\"ARD when only RBF function was applied to all features\")"
   ]
  },
  {
   "cell_type": "code",
   "execution_count": 11,
   "metadata": {},
   "outputs": [
    {
     "data": {
      "text/plain": [
       "'\\nst=time.time()\\nk1=GPy.kern.Matern32(7,ARD=True,active_dims=[0,1,2,3,4,5,6])\\nmod=GPy.models.GPRegression(X_train,Y_train,k1)\\nmod.optimize(messages=True)\\nen = time.time()\\nprint(\\'Time taken = {:.2f} seconds\\'.format(en-st))\\n\\nmean,variance=mod.predict(X_train)\\nmean1,variance1=mod.predict(X_test)\\nprint(\"training error=\",np.sqrt(mean_squared_error(Y_train,mean)))\\nprint(\"test error=\",np.sqrt(mean_squared_error(Y_test,mean1)))\\n\\n'"
      ]
     },
     "execution_count": 11,
     "metadata": {},
     "output_type": "execute_result"
    }
   ],
   "source": [
    "\"\"\"\n",
    "st=time.time()\n",
    "k1=GPy.kern.Matern32(7,ARD=True,active_dims=[0,1,2,3,4,5,6])\n",
    "mod=GPy.models.GPRegression(X_train,Y_train,k1)\n",
    "mod.optimize(messages=True)\n",
    "en = time.time()\n",
    "print('Time taken = {:.2f} seconds'.format(en-st))\n",
    "\n",
    "mean,variance=mod.predict(X_train)\n",
    "mean1,variance1=mod.predict(X_test)\n",
    "print(\"training error=\",np.sqrt(mean_squared_error(Y_train,mean)))\n",
    "print(\"test error=\",np.sqrt(mean_squared_error(Y_test,mean1)))\n",
    "\n",
    "\"\"\""
   ]
  },
  {
   "cell_type": "code",
   "execution_count": 12,
   "metadata": {},
   "outputs": [
    {
     "data": {
      "application/vnd.jupyter.widget-view+json": {
       "model_id": "a29bc4b66a6b459db31d6610650f8fd9",
       "version_major": 2,
       "version_minor": 0
      },
      "text/plain": [
       "HBox(children=(VBox(children=(IntProgress(value=0, max=1000), HTML(value=''))), Box(children=(HTML(value=''),)…"
      ]
     },
     "metadata": {},
     "output_type": "display_data"
    },
    {
     "name": "stdout",
     "output_type": "stream",
     "text": [
      "Time taken = 34.95 seconds\n",
      "training error= 2.8711994859499077\n",
      "test error= 12.15120240430396\n"
     ]
    },
    {
     "data": {
      "text/plain": [
       "Text(0.5, 1.0, 'ARD when only Matern32 function was applied to all features')"
      ]
     },
     "execution_count": 12,
     "metadata": {},
     "output_type": "execute_result"
    },
    {
     "data": {
      "image/png": "[encoded data removed]",
      "text/plain": [
       "<Figure size 1008x432 with 1 Axes>"
      ]
     },
     "metadata": {
      "needs_background": "light"
     },
     "output_type": "display_data"
    }
   ],
   "source": [
    "df=pd.read_csv('Concrete_Data.csv')\n",
    "df1=df\n",
    "\n",
    "df1.columns=[\"Cement\",\"Blast_Furance\",\"Fly_Ash\",\"Water\",\"Superplasticizer\",\"Coarse_Aggregate\",\"Fine_Aggregate\",\"Age\",\"Strength\"]\n",
    "df1.head()\n",
    "\n",
    "name=[\"Cement\",\"Blast_Furance\",\"Fly_Ash\",\"Superplasticizer\",\"Coarse_Aggregate\",\"Fine_Aggregate\",\"Age\"]\n",
    "\n",
    "\n",
    "X=df1.drop([\"Strength\"],axis=1).values\n",
    "Y=df1[\"Strength\"].values.reshape(-1,1)\n",
    "\n",
    "X_train,X_test,Y_train,Y_test=X[:700],X[700::],Y[:700],Y[700::]\n",
    "\n",
    "\n",
    "st=time.time()\n",
    "k1=GPy.kern.Matern32(8,ARD=True,active_dims=[0,1,2,3,4,5,6,7])\n",
    "mod=GPy.models.GPRegression(X_train,Y_train,k1)\n",
    "mod.optimize(messages=True)\n",
    "en = time.time()\n",
    "print('Time taken = {:.2f} seconds'.format(en-st))\n",
    "\n",
    "mean,variance=mod.predict(X_train)\n",
    "mean1,variance1=mod.predict(X_test)\n",
    "print(\"training error=\",np.sqrt(mean_squared_error(Y_train,mean)))\n",
    "print(\"test error=\",np.sqrt(mean_squared_error(Y_test,mean1)))\n",
    "\n",
    "relvec = 1/np.array(mod.kern.lengthscale)\n",
    "fig = plt.figure(figsize=(14,6))\n",
    "ax = plt.subplot(111)\n",
    "names=df1.columns\n",
    "ax.bar(np.array(np.arange(8)),relvec,color=\"purple\")\n",
    "ax.set_xticks(np.array(np.arange(8)))\n",
    "xn = ax.set_xticklabels(names)\n",
    "ax.set_facecolor('xkcd:salmon')\n",
    "ax.set_facecolor((1.0, 0.47, 0.42))\n",
    "\n",
    "plt.title(\"ARD when only Matern32 function was applied to all features\")\n"
   ]
  },
  {
   "cell_type": "code",
   "execution_count": null,
   "metadata": {},
   "outputs": [],
   "source": []
  },
  {
   "cell_type": "code",
   "execution_count": null,
   "metadata": {},
   "outputs": [],
   "source": []
  },
  {
   "cell_type": "code",
   "execution_count": 13,
   "metadata": {},
   "outputs": [
    {
     "data": {
      "application/vnd.jupyter.widget-view+json": {
       "model_id": "82dcc10b27d346ef8cbafb3a92b42696",
       "version_major": 2,
       "version_minor": 0
      },
      "text/plain": [
       "HBox(children=(VBox(children=(IntProgress(value=0, max=1000), HTML(value=''))), Box(children=(HTML(value=''),)…"
      ]
     },
     "metadata": {},
     "output_type": "display_data"
    },
    {
     "name": "stdout",
     "output_type": "stream",
     "text": [
      "Time taken = 24.55 seconds\n",
      "training error= 3.3152732457580676\n",
      "test error= 13.769431089002744\n"
     ]
    },
    {
     "data": {
      "text/plain": [
       "Text(0.5, 1.0, 'ARD when only RBF function was applied to all features')"
      ]
     },
     "execution_count": 13,
     "metadata": {},
     "output_type": "execute_result"
    },
    {
     "data": {
      "image/png": "[encoded data removed]",
      "text/plain": [
       "<Figure size 1008x432 with 1 Axes>"
      ]
     },
     "metadata": {
      "needs_background": "light"
     },
     "output_type": "display_data"
    }
   ],
   "source": [
    "df=pd.read_csv('Concrete_Data.csv')\n",
    "df1=df\n",
    "\n",
    "df1.columns=[\"Cement\",\"Blast_Furance\",\"Fly_Ash\",\"Water\",\"Superplasticizer\",\"Coarse_Aggregate\",\"Fine_Aggregate\",\"Age\",\"Strength\"]\n",
    "df1.head()\n",
    "\n",
    "name=[\"Cement\",\"Blast_Furance\",\"Fly_Ash\",\"Superplasticizer\",\"Coarse_Aggregate\",\"Fine_Aggregate\",\"Age\"]\n",
    "\n",
    "\n",
    "X=df1.drop([\"Strength\"],axis=1).values\n",
    "Y=df1[\"Strength\"].values.reshape(-1,1)\n",
    "\n",
    "X_train,X_test,Y_train,Y_test=X[:700],X[700::],Y[:700],Y[700::]\n",
    "\n",
    "\n",
    "st=time.time()\n",
    "k1=GPy.kern.RBF(8,ARD=True,active_dims=[0,1,2,3,4,5,6,7])\n",
    "mod=GPy.models.GPRegression(X_train,Y_train,k1)\n",
    "mod.optimize(messages=True)\n",
    "en = time.time()\n",
    "print('Time taken = {:.2f} seconds'.format(en-st))\n",
    "\n",
    "mean,variance=mod.predict(X_train)\n",
    "mean1,variance1=mod.predict(X_test)\n",
    "print(\"training error=\",np.sqrt(mean_squared_error(Y_train,mean)))\n",
    "print(\"test error=\",np.sqrt(mean_squared_error(Y_test,mean1)))\n",
    "\n",
    "relvec = 1/np.array(mod.kern.lengthscale)\n",
    "fig = plt.figure(figsize=(14,6))\n",
    "ax = plt.subplot(111)\n",
    "names=df1.columns\n",
    "ax.bar(np.array(np.arange(8)),relvec,color=\"purple\")\n",
    "ax.set_xticks(np.array(np.arange(8)))\n",
    "xn = ax.set_xticklabels(names)\n",
    "ax.set_facecolor('xkcd:salmon')\n",
    "ax.set_facecolor((1.0, 0.47, 0.42))\n",
    "\n",
    "plt.title(\"ARD when only RBF function was applied to all features\")\n"
   ]
  },
  {
   "cell_type": "code",
   "execution_count": 14,
   "metadata": {},
   "outputs": [
    {
     "data": {
      "application/vnd.jupyter.widget-view+json": {
       "model_id": "eb26f9b5701449bc90d55d9f553d1d0d",
       "version_major": 2,
       "version_minor": 0
      },
      "text/plain": [
       "HBox(children=(VBox(children=(IntProgress(value=0, max=1000), HTML(value=''))), Box(children=(HTML(value=''),)…"
      ]
     },
     "metadata": {},
     "output_type": "display_data"
    },
    {
     "name": "stdout",
     "output_type": "stream",
     "text": [
      "Time taken = 33.68 seconds\n",
      "training error= 4.033480411328726\n",
      "test error= 11.551969378077509\n"
     ]
    },
    {
     "data": {
      "text/plain": [
       "Text(0.5, 1.0, 'ARD when only RBF function was applied to all features')"
      ]
     },
     "execution_count": 14,
     "metadata": {},
     "output_type": "execute_result"
    },
    {
     "data": {
      "image/png": "[encoded data removed]",
      "text/plain": [
       "<Figure size 1008x432 with 1 Axes>"
      ]
     },
     "metadata": {
      "needs_background": "light"
     },
     "output_type": "display_data"
    }
   ],
   "source": [
    "df=pd.read_csv('Concrete_Data.csv')\n",
    "df1=df\n",
    "\n",
    "df1.columns=[\"Cement\",\"Blast_Furance\",\"Fly_Ash\",\"Water\",\"Superplasticizer\",\"Coarse_Aggregate\",\"Fine_Aggregate\",\"Age\",\"Strength\"]\n",
    "df1.head()\n",
    "\n",
    "name=[\"Cement\",\"Blast_Furance\",\"Fly_Ash\",\"Superplasticizer\",\"Coarse_Aggregate\",\"Fine_Aggregate\",\"Age\"]\n",
    "\n",
    "\n",
    "X=df1.drop([\"Strength\"],axis=1).values\n",
    "Y=df1[\"Strength\"].values.reshape(-1,1)\n",
    "\n",
    "X_train,X_test,Y_train,Y_test=X[:500],X[500::],Y[:500],Y[500::]\n",
    "\n",
    "\n",
    "st=time.time()\n",
    "k1=GPy.kern.RBF(8,ARD=True,active_dims=[0,1,2,3,4,5,6,7])\n",
    "mod=GPy.models.GPRegression(X_train,Y_train,k1)\n",
    "mod.optimize(messages=True)\n",
    "en = time.time()\n",
    "print('Time taken = {:.2f} seconds'.format(en-st))\n",
    "\n",
    "mean,variance=mod.predict(X_train)\n",
    "mean1,variance1=mod.predict(X_test)\n",
    "print(\"training error=\",np.sqrt(mean_squared_error(Y_train,mean)))\n",
    "print(\"test error=\",np.sqrt(mean_squared_error(Y_test,mean1)))\n",
    "\n",
    "relvec = 1/np.array(mod.kern.lengthscale)\n",
    "fig = plt.figure(figsize=(14,6))\n",
    "ax = plt.subplot(111)\n",
    "names=df1.columns\n",
    "ax.bar(np.array(np.arange(8)),relvec,color=\"purple\")\n",
    "ax.set_xticks(np.array(np.arange(8)))\n",
    "xn = ax.set_xticklabels(names)\n",
    "ax.set_facecolor('xkcd:salmon')\n",
    "ax.set_facecolor((1.0, 0.47, 0.42))\n",
    "\n",
    "plt.title(\"ARD when only RBF function was applied to all features\")\n"
   ]
  }
 ],
 "metadata": {
  "kernelspec": {
   "display_name": "Python 3",
   "language": "python",
   "name": "python3"
  },
  "language_info": {
   "codemirror_mode": {
    "name": "ipython",
    "version": 3
   },
   "file_extension": ".py",
   "mimetype": "text/x-python",
   "name": "python",
   "nbconvert_exporter": "python",
   "pygments_lexer": "ipython3",
   "version": "3.7.4"
  }
 },
 "nbformat": 4,
 "nbformat_minor": 2
}
